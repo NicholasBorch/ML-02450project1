{
 "cells": [
  {
   "cell_type": "code",
   "execution_count": 32,
   "metadata": {},
   "outputs": [],
   "source": [
    "import pandas as pd\n",
    "from sklearn.preprocessing import StandardScaler\n",
    "from sklearn.decomposition import PCA\n",
    "import matplotlib.pyplot as plt\n",
    "from mpl_toolkits.mplot3d import Axes3D\n",
    "from scipy.linalg import svd\n",
    "import numpy as np\n",
    "import plotly.graph_objects as go\n",
    "import seaborn as sns"
   ]
  },
  {
   "cell_type": "code",
   "execution_count": 33,
   "metadata": {},
   "outputs": [
    {
     "data": {
      "text/html": [
       "<div>\n",
       "<style scoped>\n",
       "    .dataframe tbody tr th:only-of-type {\n",
       "        vertical-align: middle;\n",
       "    }\n",
       "\n",
       "    .dataframe tbody tr th {\n",
       "        vertical-align: top;\n",
       "    }\n",
       "\n",
       "    .dataframe thead th {\n",
       "        text-align: right;\n",
       "    }\n",
       "</style>\n",
       "<table border=\"1\" class=\"dataframe\">\n",
       "  <thead>\n",
       "    <tr style=\"text-align: right;\">\n",
       "      <th></th>\n",
       "      <th>Pregnancies</th>\n",
       "      <th>Glucose</th>\n",
       "      <th>BloodPressure</th>\n",
       "      <th>SkinThickness</th>\n",
       "      <th>Insulin</th>\n",
       "      <th>BMI</th>\n",
       "      <th>DiabetesPedigreeFunction</th>\n",
       "      <th>Age</th>\n",
       "      <th>Outcome</th>\n",
       "    </tr>\n",
       "  </thead>\n",
       "  <tbody>\n",
       "    <tr>\n",
       "      <th>0</th>\n",
       "      <td>6</td>\n",
       "      <td>148</td>\n",
       "      <td>72</td>\n",
       "      <td>35</td>\n",
       "      <td>0</td>\n",
       "      <td>33.6</td>\n",
       "      <td>0.627</td>\n",
       "      <td>50</td>\n",
       "      <td>1</td>\n",
       "    </tr>\n",
       "    <tr>\n",
       "      <th>1</th>\n",
       "      <td>1</td>\n",
       "      <td>85</td>\n",
       "      <td>66</td>\n",
       "      <td>29</td>\n",
       "      <td>0</td>\n",
       "      <td>26.6</td>\n",
       "      <td>0.351</td>\n",
       "      <td>31</td>\n",
       "      <td>0</td>\n",
       "    </tr>\n",
       "    <tr>\n",
       "      <th>2</th>\n",
       "      <td>8</td>\n",
       "      <td>183</td>\n",
       "      <td>64</td>\n",
       "      <td>0</td>\n",
       "      <td>0</td>\n",
       "      <td>23.3</td>\n",
       "      <td>0.672</td>\n",
       "      <td>32</td>\n",
       "      <td>1</td>\n",
       "    </tr>\n",
       "    <tr>\n",
       "      <th>3</th>\n",
       "      <td>1</td>\n",
       "      <td>89</td>\n",
       "      <td>66</td>\n",
       "      <td>23</td>\n",
       "      <td>94</td>\n",
       "      <td>28.1</td>\n",
       "      <td>0.167</td>\n",
       "      <td>21</td>\n",
       "      <td>0</td>\n",
       "    </tr>\n",
       "    <tr>\n",
       "      <th>4</th>\n",
       "      <td>0</td>\n",
       "      <td>137</td>\n",
       "      <td>40</td>\n",
       "      <td>35</td>\n",
       "      <td>168</td>\n",
       "      <td>43.1</td>\n",
       "      <td>2.288</td>\n",
       "      <td>33</td>\n",
       "      <td>1</td>\n",
       "    </tr>\n",
       "  </tbody>\n",
       "</table>\n",
       "</div>"
      ],
      "text/plain": [
       "   Pregnancies  Glucose  BloodPressure  SkinThickness  Insulin   BMI  \\\n",
       "0            6      148             72             35        0  33.6   \n",
       "1            1       85             66             29        0  26.6   \n",
       "2            8      183             64              0        0  23.3   \n",
       "3            1       89             66             23       94  28.1   \n",
       "4            0      137             40             35      168  43.1   \n",
       "\n",
       "   DiabetesPedigreeFunction  Age  Outcome  \n",
       "0                     0.627   50        1  \n",
       "1                     0.351   31        0  \n",
       "2                     0.672   32        1  \n",
       "3                     0.167   21        0  \n",
       "4                     2.288   33        1  "
      ]
     },
     "metadata": {},
     "output_type": "display_data"
    }
   ],
   "source": [
    "file_path = 'diabetes.csv'\n",
    "df = pd.read_csv(file_path)\n",
    "\n",
    "display(df.head())"
   ]
  },
  {
   "cell_type": "code",
   "execution_count": 34,
   "metadata": {},
   "outputs": [
    {
     "data": {
      "text/html": [
       "<div>\n",
       "<style scoped>\n",
       "    .dataframe tbody tr th:only-of-type {\n",
       "        vertical-align: middle;\n",
       "    }\n",
       "\n",
       "    .dataframe tbody tr th {\n",
       "        vertical-align: top;\n",
       "    }\n",
       "\n",
       "    .dataframe thead th {\n",
       "        text-align: right;\n",
       "    }\n",
       "</style>\n",
       "<table border=\"1\" class=\"dataframe\">\n",
       "  <thead>\n",
       "    <tr style=\"text-align: right;\">\n",
       "      <th></th>\n",
       "      <th>Pregnancies</th>\n",
       "      <th>Glucose</th>\n",
       "      <th>BloodPressure</th>\n",
       "      <th>SkinThickness</th>\n",
       "      <th>Insulin</th>\n",
       "      <th>BMI</th>\n",
       "      <th>DiabetesPedigreeFunction</th>\n",
       "      <th>Age</th>\n",
       "      <th>Outcome</th>\n",
       "    </tr>\n",
       "  </thead>\n",
       "  <tbody>\n",
       "    <tr>\n",
       "      <th>0</th>\n",
       "      <td>1</td>\n",
       "      <td>89.0</td>\n",
       "      <td>66.0</td>\n",
       "      <td>23.0</td>\n",
       "      <td>94.0</td>\n",
       "      <td>28.1</td>\n",
       "      <td>0.167</td>\n",
       "      <td>21</td>\n",
       "      <td>0</td>\n",
       "    </tr>\n",
       "    <tr>\n",
       "      <th>1</th>\n",
       "      <td>0</td>\n",
       "      <td>137.0</td>\n",
       "      <td>40.0</td>\n",
       "      <td>35.0</td>\n",
       "      <td>168.0</td>\n",
       "      <td>43.1</td>\n",
       "      <td>2.288</td>\n",
       "      <td>33</td>\n",
       "      <td>1</td>\n",
       "    </tr>\n",
       "    <tr>\n",
       "      <th>2</th>\n",
       "      <td>3</td>\n",
       "      <td>78.0</td>\n",
       "      <td>50.0</td>\n",
       "      <td>32.0</td>\n",
       "      <td>88.0</td>\n",
       "      <td>31.0</td>\n",
       "      <td>0.248</td>\n",
       "      <td>26</td>\n",
       "      <td>1</td>\n",
       "    </tr>\n",
       "    <tr>\n",
       "      <th>3</th>\n",
       "      <td>2</td>\n",
       "      <td>197.0</td>\n",
       "      <td>70.0</td>\n",
       "      <td>45.0</td>\n",
       "      <td>543.0</td>\n",
       "      <td>30.5</td>\n",
       "      <td>0.158</td>\n",
       "      <td>53</td>\n",
       "      <td>1</td>\n",
       "    </tr>\n",
       "    <tr>\n",
       "      <th>4</th>\n",
       "      <td>1</td>\n",
       "      <td>189.0</td>\n",
       "      <td>60.0</td>\n",
       "      <td>23.0</td>\n",
       "      <td>846.0</td>\n",
       "      <td>30.1</td>\n",
       "      <td>0.398</td>\n",
       "      <td>59</td>\n",
       "      <td>1</td>\n",
       "    </tr>\n",
       "  </tbody>\n",
       "</table>\n",
       "</div>"
      ],
      "text/plain": [
       "   Pregnancies  Glucose  BloodPressure  SkinThickness  Insulin   BMI  \\\n",
       "0            1     89.0           66.0           23.0     94.0  28.1   \n",
       "1            0    137.0           40.0           35.0    168.0  43.1   \n",
       "2            3     78.0           50.0           32.0     88.0  31.0   \n",
       "3            2    197.0           70.0           45.0    543.0  30.5   \n",
       "4            1    189.0           60.0           23.0    846.0  30.1   \n",
       "\n",
       "   DiabetesPedigreeFunction  Age  Outcome  \n",
       "0                     0.167   21        0  \n",
       "1                     2.288   33        1  \n",
       "2                     0.248   26        1  \n",
       "3                     0.158   53        1  \n",
       "4                     0.398   59        1  "
      ]
     },
     "metadata": {},
     "output_type": "display_data"
    },
    {
     "data": {
      "text/plain": [
       "392"
      ]
     },
     "execution_count": 34,
     "metadata": {},
     "output_type": "execute_result"
    }
   ],
   "source": [
    "# Replace 0's with NaN\n",
    "df['Glucose'] = df['Glucose'].replace(0, np.nan) # 1 observation med 0\n",
    "df['BloodPressure'] = df['BloodPressure'].replace(0, np.nan) # 0 m 0\n",
    "df['SkinThickness'] = df['SkinThickness'].replace(0, np.nan) # 0 m 0\n",
    "df['Insulin'] = df['Insulin'].replace(0, np.nan) #236 observationer med 0\n",
    "df['BMI'] = df['BMI'].replace(0, np.nan) # 1 med 0\n",
    "df['Age'] = df['Age'].replace(0, np.nan) # 0 m 0\n",
    "# Remove NaN rows in data\n",
    "df_no_nan = df.dropna()\n",
    "df_no_nan.to_csv('diabetes_removed_nan.csv', index=False)\n",
    "\n",
    "new_df = pd.read_csv(\"diabetes_removed_nan.csv\")\n",
    "\n",
    "display(new_df.head())\n",
    "len(new_df) #originalt: 768, efter alle: 392"
   ]
  },
  {
   "cell_type": "code",
   "execution_count": 35,
   "metadata": {},
   "outputs": [
    {
     "data": {
      "text/plain": [
       "7"
      ]
     },
     "execution_count": 35,
     "metadata": {},
     "output_type": "execute_result"
    }
   ],
   "source": [
    "# Standardize data\n",
    "\n",
    "features = [col for col in df.columns if col not in ['Outcome', 'DiabetesPedigreeFunction']]\n",
    "x = new_df.loc[:, features].values\n",
    "x = StandardScaler().fit_transform(x)\n",
    "len(x.T)"
   ]
  },
  {
   "cell_type": "code",
   "execution_count": 82,
   "metadata": {},
   "outputs": [
    {
     "name": "stdout",
     "output_type": "stream",
     "text": [
      "Pregnancies\n",
      "min 0 \n",
      "max 17 \n",
      "mean 3.3010204081632653 \n",
      "median 2.0 \n",
      "var 10.286937734277386\n",
      "Low outliers: 0 High outliers: 22 Tot: 22 Percent: 0.056\n"
     ]
    },
    {
     "data": {
      "image/png": "[encoded data removed]",
      "text/plain": [
       "<Figure size 640x480 with 2 Axes>"
      ]
     },
     "metadata": {},
     "output_type": "display_data"
    },
    {
     "name": "stdout",
     "output_type": "stream",
     "text": [
      "Glucose\n",
      "min 56.0 \n",
      "max 198.0 \n",
      "mean 122.62755102040816 \n",
      "median 119.0 \n",
      "var 949.9582205331112\n",
      "Low outliers: 0 High outliers: 11 Tot: 11 Percent: 0.028\n"
     ]
    },
    {
     "data": {
      "image/png": "[encoded data removed]",
      "text/plain": [
       "<Figure size 640x480 with 2 Axes>"
      ]
     },
     "metadata": {},
     "output_type": "display_data"
    },
    {
     "name": "stdout",
     "output_type": "stream",
     "text": [
      "BloodPressure\n",
      "min 24.0 \n",
      "max 110.0 \n",
      "mean 70.66326530612245 \n",
      "median 70.0 \n",
      "var 155.7539566847147\n",
      "Low outliers: 8 High outliers: 8 Tot: 16 Percent: 0.041\n"
     ]
    },
    {
     "data": {
      "image/png": "[encoded data removed]",
      "text/plain": [
       "<Figure size 640x480 with 2 Axes>"
      ]
     },
     "metadata": {},
     "output_type": "display_data"
    },
    {
     "name": "stdout",
     "output_type": "stream",
     "text": [
      "SkinThickness\n",
      "min 7.0 \n",
      "max 63.0 \n",
      "mean 29.145408163265305 \n",
      "median 29.0 \n",
      "var 110.3130401395252\n",
      "Low outliers: 0 High outliers: 3 Tot: 3 Percent: 0.008\n"
     ]
    },
    {
     "data": {
      "image/png": "[encoded data removed]",
      "text/plain": [
       "<Figure size 640x480 with 2 Axes>"
      ]
     },
     "metadata": {},
     "output_type": "display_data"
    },
    {
     "name": "stdout",
     "output_type": "stream",
     "text": [
      "Insulin\n",
      "min 14.0 \n",
      "max 846.0 \n",
      "mean 156.05612244897958 \n",
      "median 125.5 \n",
      "var 14087.318278842149\n",
      "Low outliers: 0 High outliers: 37 Tot: 37 Percent: 0.094\n"
     ]
    },
    {
     "data": {
      "image/png": "[encoded data removed]",
      "text/plain": [
       "<Figure size 640x480 with 2 Axes>"
      ]
     },
     "metadata": {},
     "output_type": "display_data"
    },
    {
     "name": "stdout",
     "output_type": "stream",
     "text": [
      "BMI\n",
      "min 18.2 \n",
      "max 67.1 \n",
      "mean 33.08622448979592 \n",
      "median 33.2 \n",
      "var 49.26200411286964\n",
      "Low outliers: 7 High outliers: 15 Tot: 22 Percent: 0.056\n"
     ]
    },
    {
     "data": {
      "image/png": "[encoded data removed]",
      "text/plain": [
       "<Figure size 640x480 with 2 Axes>"
      ]
     },
     "metadata": {},
     "output_type": "display_data"
    },
    {
     "name": "stdout",
     "output_type": "stream",
     "text": [
      "Age\n",
      "min 21 \n",
      "max 81 \n",
      "mean 30.864795918367346 \n",
      "median 27.0 \n",
      "var 103.79039332569765\n",
      "Low outliers: 0 High outliers: 32 Tot: 32 Percent: 0.082\n"
     ]
    },
    {
     "data": {
      "image/png": "[encoded data removed]",
      "text/plain": [
       "<Figure size 640x480 with 2 Axes>"
      ]
     },
     "metadata": {},
     "output_type": "display_data"
    }
   ],
   "source": [
    "from scipy.stats import iqr\n",
    "\n",
    "data_details_df = pd.DataFrame({\n",
    "    'Attribute' : features,\n",
    "    'Min' : [min(new_df[features[i]]) for i in range(len(x.T))]    ,\n",
    "    'Max' : [max(new_df[features[i]]) for i in range(len(x.T))]    ,\n",
    "    'Mean' : [np.mean(new_df[features[i]]) for i in range(len(x.T))]    ,\n",
    "    'Median' : [np.median(new_df[features[i]]) for i in range(len(x.T))]  ,\n",
    "    'Variance' : [np.var(new_df[features[i]]) for i in range(len(x.T))]   ,\n",
    "    'Q1' : [np.quantile(new_df[features[i]],0.25) for i in range(len(x.T))] ,\n",
    "    'Q3' : [np.quantile(new_df[features[i]],0.75) for i in range(len(x.T))] \n",
    "})\n",
    "\n",
    "# table = plt.table(cellText=data_details_df.values.T,\n",
    "#                   rowLabels=data_details_df.keys().T,\n",
    "#                   colLabels=df.columns.T,\n",
    "#                   loc='center')\n",
    "# print(data_details_df.to_latex())\n",
    "\n",
    "for i, att in enumerate(x.T):\n",
    "    print(features[i])\n",
    "    print('min', min(new_df[features[i]]), '\\nmax', max(new_df[features[i]]), '\\nmean', np.mean(new_df[features[i]])    \n",
    "          , '\\nmedian',  np.median(new_df[features[i]]), '\\nvar', np.var(new_df[features[i]]))\n",
    "    iqr_data = iqr(att)\n",
    "    q1, q3 = np.quantile(att,0.25), np.quantile(att,0.75) \n",
    "    thresh_low, thresh_high = q1 - iqr_data, q3 + iqr_data\n",
    "    out_low, out_high = 0,0\n",
    "    for obs in att:\n",
    "        if obs < thresh_low: out_low +=1\n",
    "        if obs > thresh_high: out_high += 1\n",
    "    print('Low outliers:', out_low, 'High outliers:', out_high, 'Tot:', out_high+out_low, \n",
    "          'Percent:', np.round((out_low+out_high)/len(att),3))\n",
    "    fig, axes = plt.subplots(1,2)\n",
    "    sns.histplot(att, ax=axes.flatten()[0])\n",
    "    sns.boxplot(att, ax=axes.flatten()[1])\n",
    "    fig.suptitle(f'{features[i]}, Standardized')\n",
    "    plt.show()\n"
   ]
  },
  {
   "cell_type": "code",
   "execution_count": null,
   "metadata": {},
   "outputs": [],
   "source": [
    "# PCA\n",
    "\n",
    "pca = PCA()\n",
    "principalComponents = pca.fit_transform(x)"
   ]
  },
  {
   "cell_type": "code",
   "execution_count": null,
   "metadata": {},
   "outputs": [],
   "source": [
    "principalDf = pd.DataFrame(data = principalComponents\n",
    "             , columns = ['principal component 1', 'principal component 2', 'principal component 3', 'principal component 4', 'principal component 5', 'principal component 6', 'principal component 7'])"
   ]
  },
  {
   "cell_type": "code",
   "execution_count": null,
   "metadata": {},
   "outputs": [
    {
     "name": "stdout",
     "output_type": "stream",
     "text": [
      "[0.35931313 0.21922033 0.16852208 0.10846325 0.05740043 0.04444452\n",
      " 0.04263626]\n"
     ]
    },
    {
     "data": {
      "text/plain": [
       "0.7470555387374158"
      ]
     },
     "execution_count": 10,
     "metadata": {},
     "output_type": "execute_result"
    }
   ],
   "source": [
    "print(pca.explained_variance_ratio_)\n",
    "sum(pca.explained_variance_ratio_[:3])"
   ]
  },
  {
   "cell_type": "code",
   "execution_count": null,
   "metadata": {},
   "outputs": [
    {
     "name": "stderr",
     "output_type": "stream",
     "text": [
      "C:\\Users\\pvest\\AppData\\Local\\Temp\\ipykernel_46096\\422959589.py:5: UserWarning: You passed a edgecolor/edgecolors ('k') for an unfilled marker ('x').  Matplotlib is ignoring the edgecolor in favor of the facecolor.  This behavior may change in the future.\n",
      "  plt.scatter(principalDf.loc[indicesToKeep, 'principal component 1'],\n"
     ]
    },
    {
     "data": {
      "image/png": "[encoded data removed]",
      "text/plain": [
       "<Figure size 800x600 with 1 Axes>"
      ]
     },
     "metadata": {},
     "output_type": "display_data"
    },
    {
     "name": "stdout",
     "output_type": "stream",
     "text": [
      "['Pregnancies', 'Glucose', 'BloodPressure', 'SkinThickness', 'Insulin', 'BMI', 'Age']\n"
     ]
    }
   ],
   "source": [
    "plt.figure(figsize=(8, 6))\n",
    "\n",
    "for outcome, color in zip([0, 1], [\"#005AB5\",\"#DC3220\"]):\n",
    "    indicesToKeep = new_df['Outcome'] == outcome\n",
    "    plt.scatter(principalDf.loc[indicesToKeep, 'principal component 1'],\n",
    "                principalDf.loc[indicesToKeep, 'principal component 2'],\n",
    "                c=color, edgecolor='k', alpha=0.7, s=50, marker='x',\n",
    "                label=('Non-Diabetic' if outcome == 0 else 'Diabetic'))\n",
    "\n",
    "plt.xlabel('Principal Component 1')\n",
    "plt.ylabel('Principal Component 2')\n",
    "plt.title('PCA of Diabetes Dataset')\n",
    "plt.grid(True)\n",
    "plt.legend()\n",
    "plt.show()\n",
    "print(features)"
   ]
  },
  {
   "cell_type": "code",
   "execution_count": null,
   "metadata": {},
   "outputs": [
    {
     "data": {
      "image/png": "[encoded data removed]",
      "text/plain": [
       "<Figure size 1200x600 with 1 Axes>"
      ]
     },
     "metadata": {},
     "output_type": "display_data"
    },
    {
     "name": "stdout",
     "output_type": "stream",
     "text": [
      "[0.3311898  0.42720682 0.34482839 0.37942983 0.36428952 0.36317222\n",
      " 0.42465647] \n",
      " [-0.53874781 -0.04307468  0.01850814  0.44359345  0.06700849  0.53809978\n",
      " -0.4655493 ]\n"
     ]
    },
    {
     "data": {
      "text/plain": [
       "['Pregnancies',\n",
       " 'Glucose',\n",
       " 'BloodPressure',\n",
       " 'SkinThickness',\n",
       " 'Insulin',\n",
       " 'BMI',\n",
       " 'Age']"
      ]
     },
     "execution_count": 12,
     "metadata": {},
     "output_type": "execute_result"
    }
   ],
   "source": [
    "Y = x - np.ones((x.shape[0], 1)) * x.mean(0)\n",
    "U, S, Vh = svd(Y, full_matrices=False)\n",
    "V = Vh.T\n",
    "\n",
    "new_new_df = new_df.drop(['Outcome', 'DiabetesPedigreeFunction'], axis=1)\n",
    "attributeNames = list(new_new_df.columns)\n",
    "\n",
    "pcs = [0, 1, 2]\n",
    "legendStrs = [\"PC\" + str(e + 1) for e in pcs]\n",
    "bw = 0.2\n",
    "r = np.arange(1, len(attributeNames) + 1)\n",
    "colors = [\"r\", \"g\", \"b\"]  \n",
    "\n",
    "plt.figure(figsize=(12, 6))\n",
    "for i in pcs:\n",
    "    plt.bar(r + i * bw, V[:, i], width=bw, color=colors[i])\n",
    "plt.xticks(r + bw, attributeNames, rotation=45, ha=\"right\")\n",
    "plt.xlabel(\"Attributes\")\n",
    "plt.ylabel(\"Component coefficients\")\n",
    "plt.legend(legendStrs)\n",
    "plt.grid()\n",
    "plt.title(\"Diabetes Dataset: PCA Component Coefficients\")\n",
    "plt.tight_layout()  \n",
    "plt.show()\n",
    "print(Vh[0],'\\n', Vh[1])\n",
    "attributeNames"
   ]
  },
  {
   "cell_type": "code",
   "execution_count": null,
   "metadata": {},
   "outputs": [
    {
     "data": {
      "image/png": "[encoded data removed]",
      "text/plain": [
       "<Figure size 800x600 with 1 Axes>"
      ]
     },
     "metadata": {},
     "output_type": "display_data"
    }
   ],
   "source": [
    "# Plotting 3D\n",
    "fig = plt.figure(figsize=(8, 6))\n",
    "ax = fig.add_subplot(111, projection='3d')\n",
    "\n",
    "# Extracting the values for each component\n",
    "x_values = principalDf['principal component 1']\n",
    "y_values = principalDf['principal component 2']\n",
    "z_values = principalDf['principal component 3']\n",
    "colors = new_df['Outcome']\n",
    "\n",
    "# Plotting\n",
    "ax.scatter(x_values, y_values, z_values, c = colors, cmap='viridis', marker='o')\n",
    "\n",
    "# Adding labels for each axis\n",
    "ax.set_xlabel('Principal Component 1')\n",
    "ax.set_ylabel('Principal Component 2')\n",
    "ax.set_zlabel('Principal Component 3')\n",
    "\n",
    "# Title\n",
    "ax.set_title('3D PCA Plot')\n",
    "\n",
    "# Show plot\n",
    "plt.show()"
   ]
  },
  {
   "cell_type": "code",
   "execution_count": null,
   "metadata": {},
   "outputs": [
    {
     "data": {
      "application/vnd.plotly.v1+json": {
       "config": {
        "plotlyServerURL": "https://plot.ly"
       },
       "data": [
        {
         "marker": {
          "color": [
           0,
           1,
           1,
           1,
           1,
           1,
           1,
           0,
           1,
           0,
           1,
           1,
           0,
           0,
           1,
           0,
           0,
           1,
           0,
           1,
           0,
           0,
           0,
           1,
           0,
           1,
           0,
           0,
           0,
           0,
           0,
           1,
           0,
           0,
           0,
           0,
           0,
           1,
           0,
           0,
           0,
           0,
           0,
           0,
           1,
           0,
           0,
           0,
           0,
           1,
           1,
           1,
           0,
           1,
           0,
           1,
           0,
           1,
           0,
           0,
           1,
           1,
           1,
           0,
           0,
           0,
           0,
           0,
           0,
           0,
           0,
           0,
           1,
           0,
           0,
           0,
           0,
           1,
           0,
           0,
           1,
           0,
           1,
           0,
           0,
           1,
           1,
           0,
           1,
           1,
           1,
           1,
           0,
           1,
           1,
           1,
           1,
           0,
           0,
           1,
           0,
           1,
           1,
           1,
           1,
           0,
           1,
           0,
           0,
           0,
           0,
           0,
           1,
           0,
           0,
           1,
           0,
           1,
           0,
           0,
           0,
           0,
           1,
           0,
           1,
           0,
           0,
           0,
           0,
           0,
           0,
           0,
           0,
           0,
           0,
           0,
           1,
           0,
           0,
           0,
           1,
           1,
           1,
           0,
           1,
           0,
           1,
           1,
           0,
           0,
           1,
           0,
           1,
           1,
           0,
           1,
           0,
           0,
           0,
           0,
           0,
           1,
           0,
           1,
           1,
           0,
           0,
           0,
           0,
           1,
           0,
           0,
           0,
           0,
           0,
           0,
           1,
           0,
           1,
           1,
           0,
           0,
           0,
           1,
           1,
           0,
           0,
           0,
           1,
           0,
           0,
           0,
           0,
           0,
           0,
           0,
           0,
           1,
           0,
           0,
           0,
           0,
           0,
           0,
           1,
           0,
           1,
           0,
           0,
           0,
           1,
           1,
           1,
           0,
           0,
           0,
           1,
           1,
           1,
           0,
           1,
           0,
           0,
           0,
           0,
           1,
           0,
           0,
           1,
           0,
           0,
           0,
           0,
           0,
           1,
           0,
           0,
           0,
           0,
           0,
           0,
           0,
           1,
           0,
           0,
           1,
           0,
           0,
           1,
           0,
           0,
           0,
           1,
           0,
           1,
           0,
           0,
           0,
           1,
           0,
           0,
           0,
           0,
           1,
           1,
           0,
           0,
           0,
           0,
           0,
           0,
           0,
           0,
           0,
           0,
           1,
           1,
           1,
           0,
           0,
           1,
           1,
           0,
           0,
           0,
           0,
           0,
           0,
           1,
           0,
           0,
           0,
           0,
           0,
           0,
           1,
           0,
           0,
           0,
           0,
           0,
           1,
           1,
           0,
           0,
           0,
           1,
           0,
           0,
           1,
           1,
           0,
           0,
           0,
           0,
           1,
           1,
           1,
           0,
           0,
           0,
           0,
           0,
           0,
           0,
           1,
           0,
           0,
           0,
           0,
           1,
           1,
           1,
           0,
           0,
           0,
           0,
           1,
           0,
           0,
           1,
           1,
           1,
           0,
           0,
           0,
           0,
           0,
           0,
           0,
           0,
           0,
           0,
           0,
           1,
           0,
           1,
           1,
           1,
           0,
           0,
           0,
           0,
           1,
           0,
           0,
           0,
           1,
           1,
           0,
           0,
           1,
           0,
           0,
           1,
           1,
           0,
           0,
           0,
           1,
           0,
           0,
           0,
           0,
           0,
           1,
           0,
           1,
           1,
           0,
           0,
           0
          ],
          "colorscale": [
           [
            0,
            "#440154"
           ],
           [
            0.1111111111111111,
            "#482878"
           ],
           [
            0.2222222222222222,
            "#3e4989"
           ],
           [
            0.3333333333333333,
            "#31688e"
           ],
           [
            0.4444444444444444,
            "#26828e"
           ],
           [
            0.5555555555555556,
            "#1f9e89"
           ],
           [
            0.6666666666666666,
            "#35b779"
           ],
           [
            0.7777777777777778,
            "#6ece58"
           ],
           [
            0.8888888888888888,
            "#b5de2b"
           ],
           [
            1,
            "#fde725"
           ]
          ],
          "opacity": 0.8,
          "size": 5
         },
         "mode": "markers",
         "type": "scatter3d",
         "x": [
          -1.9142269302406252,
          -0.13357194828094554,
          -1.6370680586263286,
          3.4274162843870193,
          3.3015837251666778,
          0.9674578310648271,
          1.4989469773106114,
          -0.9200379392392142,
          -0.3894614402663647,
          1.3256604461381678,
          2.8516717011275783,
          0.7863465995563137,
          -2.1630229213587926,
          1.6430874669200954,
          0.9309622835925373,
          -2.6279592028415797,
          -0.626083868994693,
          2.004715042771866,
          0.010651454088233588,
          4.019103484709435,
          -2.212181911706513,
          -2.650389172065013,
          -1.62151865475327,
          3.5392890043644636,
          2.2152564371053667,
          2.6719022219471555,
          1.513043998508349,
          -0.3183395909792593,
          -0.8241699193389932,
          -2.6372876201572732,
          0.16500064866539757,
          -1.2390027101903298,
          -0.05442670679252998,
          0.379968562108276,
          -0.32114441490295137,
          -0.5143525255912548,
          -0.8550308434429383,
          2.0503531053696302,
          -0.04000760476234436,
          1.236739840393481,
          -1.0829004820010284,
          1.178069334912525,
          -3.2536813507064717,
          -1.5093489792833326,
          2.139042171652698,
          -2.1582669009254074,
          -1.2518639334876145,
          -0.0019629884667563065,
          -1.4686257492713346,
          -0.9088503114843919,
          0.47586784196838033,
          2.2993933395241966,
          -1.171717133959996,
          0.80610604369001,
          -1.8640649783176564,
          1.9467119104312767,
          -0.7011799082570948,
          -0.6207184818935618,
          0.3521696297568739,
          -0.911238502675601,
          0.3975310153445358,
          0.15535382464822023,
          0.9738922693424609,
          -2.3118459657626915,
          -0.7331847117177152,
          -1.6414605588201214,
          -1.9889830783932945,
          0.5592443260884418,
          -1.6518494834126918,
          0.3847063006271258,
          -0.4542891918565354,
          0.8775484775844684,
          1.9571355497986007,
          2.031571546903859,
          -2.5292909242975465,
          -1.9264168453223205,
          -1.7858763717697659,
          3.3871412026957293,
          1.2257266662045432,
          0.7826344254611407,
          -0.03250941698982217,
          -0.8371513139825087,
          0.15801388463141672,
          -0.793192272456343,
          -1.5608659746375386,
          1.881992191051504,
          2.9204716448029027,
          -1.4084712215536876,
          3.5685738875160005,
          0.7522750234566902,
          0.40799223089451925,
          0.5625887240812594,
          1.3029798621268145,
          1.8770129183624418,
          -2.256878403243183,
          -0.05340528035671284,
          0.3579180797765516,
          -2.1165096756439294,
          1.4956482398301427,
          3.3426095486599925,
          -1.485551237192998,
          -0.2440188142266276,
          1.187358968951329,
          2.7664188035448616,
          -0.011644602801889338,
          0.04582910448236598,
          0.7681565109728345,
          1.6336209210010428,
          -2.1918283814500104,
          -1.2781602467550852,
          3.437885507969007,
          -0.06953280903400066,
          2.9441399351279522,
          -1.8667322038903476,
          -1.663964932041057,
          2.3604907839411173,
          -0.859085452698072,
          -0.7601802909019887,
          0.8519062137644723,
          3.1944526332523044,
          1.733697949710036,
          -1.9215191581312405,
          0.01088059965215567,
          -0.29400227027489473,
          2.181551341494252,
          0.26959572330336984,
          -0.24500170835034893,
          -1.5996887606053156,
          -0.7432611227112086,
          0.1944620097631433,
          -1.729470318941508,
          -1.666226141429278,
          1.2663101513952888,
          0.7107144341877739,
          0.9538768558302174,
          3.1442021967828113,
          1.2579144015012396,
          -2.3079067845752332,
          0.506295649661375,
          -1.0557325883795983,
          -1.0804664604737702,
          1.0403525394148394,
          -0.0026382178604089463,
          0.39441048435067666,
          0.7762139071697078,
          -0.15958064208342462,
          1.7425688772285193,
          -0.4347355363612947,
          0.24722079790356472,
          0.3682310589754128,
          1.1342060782857222,
          -1.6270591420037532,
          -1.0112898142497422,
          -0.12574822832691304,
          -0.3734473025516112,
          -0.713251235439169,
          -2.075217511056701,
          -0.9541587118576788,
          -1.7880607033194145,
          0.18108895057192062,
          -0.8069104749808095,
          1.8727645944952849,
          -0.6553536740404029,
          -0.2593048000947618,
          0.4549673221147531,
          -0.013664481399326233,
          -2.0367661761731957,
          -2.463605943482891,
          1.7618340617699375,
          1.566192918237711,
          -1.6350661611484767,
          -1.2353178699448275,
          2.147169893379187,
          -1.8793299888538224,
          -2.0030774648343135,
          -2.48632320242037,
          -0.45828088973086906,
          1.4181830317344015,
          1.5586525961448578,
          1.3937517877557488,
          0.8305540643273903,
          -0.8668381349326775,
          -1.594171701576265,
          1.2557330295378957,
          2.6402070646769853,
          -1.8656905353306517,
          -0.6775083208862812,
          -0.1105316139922601,
          3.918756981610153,
          -1.8787308951772659,
          -1.1477335718454522,
          0.8631104016814495,
          -1.0181462336664255,
          -2.2142946904664105,
          -2.2874386164850704,
          -1.2493798951679378,
          -2.5013365082689343,
          2.141913571813859,
          -1.0669943515763718,
          -0.15479679368752855,
          -0.9549114638276145,
          -1.1268274541838923,
          -0.7676052482443625,
          -0.8507779305155903,
          1.2200545733797614,
          -0.3611699474420258,
          2.7510471603118964,
          -0.43237299529704987,
          0.7761699261750213,
          -1.1804304748920573,
          -0.5101939456540402,
          1.9164461909714436,
          -0.7235110422906623,
          1.0913917050588082,
          -2.0309398690013722,
          -0.4639768903763359,
          2.071739208255204,
          2.0609199271389413,
          0.84160884439301,
          1.2363869180818923,
          0.22128460048881174,
          -0.9395473806258975,
          -2.2158010147411398,
          -1.7753461799414665,
          -0.6583603913169352,
          2.5612008387374217,
          -1.9201252654091567,
          -0.11580928558503262,
          -1.1248797246078144,
          -1.3099399024797542,
          -2.6983663071220576,
          -0.47603327528885225,
          -1.1487076014166109,
          -1.1437600323169645,
          3.414346464643653,
          2.4006795091659803,
          0.10227576578109068,
          0.3100771104657954,
          -2.462144987326845,
          -3.2337132026573228,
          -0.8569090268469017,
          1.8075178692476506,
          0.5133417226299638,
          -0.6451589518806818,
          0.6625145156636042,
          1.2967552481100082,
          -1.7789139982975428,
          -0.6545784298785924,
          0.7003687470619869,
          1.1552543255569407,
          2.8227039525001367,
          -1.251852514696112,
          -0.04784178650448584,
          -1.830105363557952,
          2.064875228195083,
          1.1654387888097966,
          -1.124894868310075,
          -0.15168112089875055,
          1.0212715015317557,
          -1.2525832895122881,
          -2.2585890326700726,
          -1.60615523291018,
          -2.074028146439733,
          -0.24547557939396994,
          2.3589143473220653,
          1.1394981515723797,
          -1.746000545406725,
          0.10830053201649224,
          -2.552197445142333,
          -1.3357596279419734,
          -0.870479907643631,
          -1.5334946794435889,
          0.019311748965144166,
          -1.8264921650035626,
          0.26550104587202406,
          1.5795885935594123,
          1.669353198176277,
          -0.16186141949363633,
          -0.37064785969204916,
          -0.8997529615090027,
          2.6498796962729383,
          2.760678529793551,
          -0.2678013795849061,
          1.6590596201664563,
          -1.068679695264095,
          -1.9794405480752786,
          -1.2272118461605568,
          0.566014515321139,
          1.345726105135004,
          -0.9248678179151786,
          -1.2959511227609901,
          -2.464716442099324,
          -1.0469131712338373,
          0.20036086405725576,
          0.6097613527998103,
          -0.2821398655448791,
          -1.3741432229780863,
          -1.6057647831842163,
          0.5509330479439984,
          -0.7847606247751765,
          -1.3689056232412096,
          2.4824099962993076,
          1.9468174978690282,
          0.6657272487999015,
          -2.079055933370138,
          1.2777766890327866,
          -0.005540688020129464,
          -3.446498687322006,
          -2.561788618179168,
          1.9402920448194272,
          1.6471256642497907,
          -2.351846887281932,
          1.365623546521732,
          -1.9397586675202114,
          -1.4095242132455956,
          0.39382802703985714,
          3.1058953526839144,
          1.9031905331011512,
          -3.1468744461537117,
          0.7741353041419917,
          -0.8318540648107062,
          0.5917316000941174,
          -0.4476655082639593,
          -0.8645308592300405,
          -1.4674609102329812,
          0.5292791198232366,
          -2.238639816576177,
          -1.1554975322972574,
          -0.6927511047259217,
          1.8079251094793685,
          -0.4183402672959262,
          0.0006284576171261718,
          1.6968696594265675,
          -2.1940906352495757,
          -1.110040021936887,
          0.3553255268638976,
          -0.9042864621339879,
          0.9456228208753338,
          -1.728747586570422,
          1.5232558820882756,
          -0.6092911999577967,
          3.654911651432708,
          2.3153314502939923,
          0.1745233764973347,
          0.3840006394780905,
          1.5609364727288522,
          1.4979670282106625,
          1.1577930039631705,
          2.1372010032383604,
          -1.6760261453220167,
          -2.674553151829253,
          -0.4823557060146373,
          -0.15580732850973533,
          -0.7375638098071822,
          2.3585058311122573,
          -0.2761552280399437,
          1.8046035318110902,
          2.359971650358806,
          0.08280525652853217,
          -0.09322019539920351,
          0.00459823858278115,
          -0.8614096417067341,
          -0.8017566472291441,
          -0.6874530898514661,
          0.016910049278698807,
          0.13633355405866515,
          -1.2064951316628478,
          1.7394915396250503,
          1.35724087846738,
          -0.21999087411809334,
          -0.25529618995178005,
          0.22815296171405477,
          1.1706839590602045,
          -0.14703384157470717,
          -0.29649085978863116,
          1.534265082900499,
          -1.4009633243090887,
          -0.7639538351071757,
          -1.4125041816098813,
          2.472722553103423,
          -1.8956350386200622,
          -1.9087790030901506,
          2.8638848291222976,
          1.4068571984984737,
          0.13287813029550097,
          1.1050975072730276,
          0.23329304701967152,
          2.8959321413704378,
          0.962901014437074,
          -2.1196865457345733,
          2.623905088531773,
          -0.5597801940197015
         ],
         "y": [
          0.20052064859405425,
          1.4130881447005161,
          0.22679301168695276,
          -0.20810070808179876,
          -1.1067288994879574,
          -2.2405411955388597,
          2.3451102600486697,
          1.3718507891671838,
          0.46255699942496076,
          1.2698068580158333,
          -1.7806992858478456,
          -1.9010047722153098,
          -0.5439328793654159,
          -4.127034257516091,
          0.3657294380281364,
          -0.9739929671453249,
          -0.7168855880182993,
          -0.15720833476262766,
          0.029197628831231424,
          -1.2496233183627075,
          -1.02457418438443,
          -0.738087263960987,
          -1.289471763109825,
          -1.741861996931088,
          -0.4037345860032141,
          -0.3249394973830282,
          2.9341709604763158,
          2.1121325531001722,
          0.08769794709631092,
          -1.0962844041802764,
          -0.3954066608334945,
          -0.06366807936290889,
          -0.20158205750776872,
          0.088288103340445,
          -1.2608771494123119,
          0.34145813841823763,
          0.6604731749182149,
          -2.137055645008789,
          -0.9168016158430426,
          0.38004081284440594,
          -0.5065743823164627,
          -0.8863010275290294,
          -0.65838479436961,
          -0.4353548752100009,
          2.642738070185026,
          -0.2731529545762179,
          0.4661353869585745,
          -0.7788044824730559,
          0.4486117029948054,
          1.0159210417965516,
          0.4659431406549493,
          -1.4104629774029418,
          0.7940274326170387,
          -1.137047530675455,
          -1.0403699294676856,
          3.4199894373373474,
          0.6485593493307887,
          2.7876659000842365,
          0.8693665232257619,
          1.0044543746372006,
          -0.11253190911205124,
          -1.178897521364845,
          0.49304579480164795,
          -1.1871767481581261,
          -0.14736749396568272,
          0.6679175957061902,
          0.4376503214139049,
          0.2537741160432405,
          0.3860705282974546,
          0.31391166138708193,
          0.11669513234294088,
          1.9250542878588444,
          -1.445937766136888,
          2.0249542471018147,
          -0.6084040172604593,
          -0.2173104811840955,
          -0.12297574368241763,
          -2.0168537197405665,
          -0.48848408116392256,
          1.886886699022023,
          -1.600559579247085,
          -0.9467744857676664,
          -0.4818923654489924,
          2.071364949723489,
          -0.35633344135446965,
          -0.6021799028380282,
          4.13108909210028,
          0.5412379945897499,
          -1.9543094901082114,
          0.6840131708094765,
          -0.7736721333019724,
          0.10913444058925016,
          -0.7828324682015217,
          0.7853632807358929,
          -1.1048957710143636,
          0.8406194323036492,
          -0.25026177137071587,
          -1.1638851061714335,
          -1.0334006981084625,
          -1.6760108070967796,
          0.7437596258830218,
          1.4173418808303182,
          -0.9436312479437633,
          -0.6365036659468166,
          0.6822751538041092,
          -0.7333725747415553,
          1.2051485597071647,
          -2.187956047503145,
          -0.7476702715486023,
          0.8076849923747452,
          0.7966856504557728,
          1.8387671802852612,
          0.3108751767302433,
          0.03485080742646965,
          0.1032853912106371,
          -1.7112556159589627,
          0.41409856915859106,
          -1.325975340289591,
          0.9397497289059509,
          2.8149984715756626,
          -0.6244124293059629,
          -0.7709789995577825,
          -3.329852405815603,
          -0.41131212443764,
          -2.2860805655917504,
          -0.9719609542044767,
          -1.2793785246436913,
          0.13638817930651884,
          1.7471520678588979,
          1.994908496497181,
          0.2425920095662336,
          -0.7054764624337522,
          -1.3498811033942404,
          -1.5411156457175954,
          -2.243201638517772,
          0.823239356417954,
          1.9112400466934714,
          -1.3949814584255877,
          0.40991050143534274,
          1.3140839715666004,
          1.0906390531402814,
          1.3451731267792189,
          1.9185230615993716,
          -0.13191759097439085,
          0.36927425656306995,
          0.7274440573586949,
          -2.3361959969156536,
          0.4748589322693219,
          0.25057041932424046,
          1.1253096525650128,
          -2.7749051572554566,
          -0.2982497568748173,
          0.1977814743363191,
          0.21716727523450682,
          1.7930806768271739,
          -0.689290360111443,
          -0.8222866293880771,
          0.19264927047591532,
          -1.7383366445709731,
          0.9767531331922974,
          -1.2584100157146785,
          -2.5869701753055763,
          -0.2570646943183927,
          0.6919471566542471,
          1.850377850034829,
          -0.8144943805570006,
          -0.12599965045266243,
          -0.415958857885291,
          2.502220232550427,
          -0.7861632054146056,
          -0.4813498693523087,
          -0.7464472170406915,
          -0.9196045587896483,
          -0.07386423748970675,
          -1.0470512107269372,
          -0.5062768585287435,
          0.9644758184563352,
          -1.6203395106568408,
          0.9807987081463857,
          -0.1892422594490986,
          -0.06571627363049891,
          -0.25712215967968,
          -0.49773635356197016,
          -0.30683196989585615,
          1.643112351282038,
          0.9048073752900836,
          1.054861011533589,
          1.1476174501111127,
          -1.5594152358544424,
          -0.23191053394587155,
          1.4269499065160354,
          1.6099084852855636,
          0.5430415763908278,
          -0.6271705701334795,
          -0.45053125955610523,
          -0.266712632849612,
          -0.8881500408925262,
          -1.6817630170507614,
          -0.2067192681380145,
          -0.16449266550015784,
          -0.39736451565487396,
          -1.9919251744403612,
          -0.10145761012212803,
          -0.7668122475791799,
          0.13571724103696084,
          1.2233831027752917,
          2.2358676948240994,
          0.8194262915979629,
          1.3243300523755657,
          -0.0696158019718671,
          1.3374824539779986,
          0.9477263531727793,
          -0.3792425059627945,
          2.084538349124122,
          -0.35381217635222845,
          2.268064444847307,
          -0.14933372925480012,
          0.5860650821948381,
          0.0963287947573025,
          2.075776550831152,
          -0.12744636342739732,
          -1.0248037009895123,
          -0.20108183429110835,
          0.2847274240717633,
          0.092028351228119,
          4.1202246335997055,
          -0.8186335402625367,
          1.7244263131429374,
          1.294887236498514,
          0.06387375546231622,
          -0.8348412338932195,
          1.5361491239538123,
          0.8233383158439215,
          -0.24211845137000887,
          -0.8729768367216513,
          -3.701627729188,
          -3.0348715637676578,
          -0.5263595053305566,
          -0.5943890032185845,
          -0.2817997646175144,
          1.3910022699683147,
          1.1796223896199451,
          1.0786370016678508,
          -1.8584458101337793,
          -1.3835585859872503,
          0.1294025084764595,
          -0.7201946597039244,
          1.4375314754744457,
          2.149285506753417,
          2.068862708486421,
          0.4654319018779909,
          0.7647250555851357,
          -1.5785417584017354,
          -0.324870938548435,
          -2.2820872436616275,
          -1.0128657225217435,
          -0.3752511327257015,
          -1.2565486545223967,
          0.40559884565061066,
          0.21556318737036936,
          0.18197737801699052,
          -0.35523507396671405,
          -0.6694131174803784,
          -0.4894244084255157,
          -1.9778765334957007,
          -3.6382869916083096,
          0.011679134289464316,
          0.44160904012193325,
          -0.7483406709975671,
          -0.7680576867527341,
          0.8816150313697013,
          -0.14223431228190087,
          2.0595785802102418,
          0.7382282119835937,
          1.5302014822337546,
          1.113442089182167,
          -0.33150010519172474,
          0.013119105905109887,
          0.40893723586821284,
          0.3963862452367955,
          -0.7349761317231245,
          -0.6347389445994799,
          -0.33949929939909973,
          -0.015990667284180013,
          0.2854911229748211,
          0.2565989269990611,
          0.5711867421100325,
          -1.290129351327572,
          1.3900192718225672,
          1.2525111331511394,
          -1.4484124801742482,
          -0.5761669830375897,
          1.2531808253940775,
          -1.0947176857131844,
          -0.5996869211692878,
          0.5864719658517138,
          0.1932494735261953,
          0.23264293596129193,
          0.6455345010548679,
          1.5066501502290321,
          -1.7590008317370038,
          -2.0520820168573075,
          -1.0413504458582237,
          1.9137546560922392,
          -0.16093277903579548,
          0.15558704895804099,
          0.17842918127166887,
          -0.09266048105869666,
          -0.6772687696561859,
          -1.566968921008845,
          1.8711906074196196,
          -0.5971776564577289,
          1.833580653032835,
          -0.6145523183598053,
          -0.14774382118224708,
          -0.5693162516912644,
          -0.048393057235502204,
          -2.09278163905065,
          -1.1157143375555418,
          1.339576221507373,
          1.728901844443464,
          1.0893070637966251,
          1.4374341196555627,
          -0.12511601500926225,
          -0.00965414086698366,
          0.05341339429532392,
          -1.2738840083165583,
          -0.049394196620174954,
          -0.13022105268973994,
          1.106597214858772,
          -1.0305027509717954,
          1.502707397497266,
          -1.935370858248633,
          -0.04594061330213972,
          0.32208435851477735,
          0.3414888001111647,
          0.8389859994209309,
          0.9701615195207351,
          -0.020224613033954036,
          1.207737246432648,
          0.4186934920962757,
          -0.2532377222774494,
          -0.32595424310689386,
          1.5163368460394477,
          -0.7402436197335278,
          -1.7993456571829733,
          -1.4319631832479371,
          -1.8687700617751197,
          2.649694234914745,
          -0.5433508102911718,
          -0.09735041475314168,
          2.2584160760743615,
          0.386092383371796,
          -0.08169388924808275,
          1.4049162386273115,
          1.126375376690384,
          0.04735004599409545,
          -1.414644039649208,
          -0.7057756692252579,
          -0.6254750107085784,
          0.5995565456653532,
          -0.6924194430874643,
          0.43867328671951344,
          1.1089724565597103,
          -0.39118024619945074,
          -1.130240450798003,
          0.1479222166094996,
          -0.5268161408244063,
          0.4721387451328119,
          1.614138644624487,
          1.5411468305212281,
          -0.4759622260328243,
          -0.2952947389765941,
          0.9130908401352794,
          -0.7544601477121683,
          1.6725909697659476,
          0.2262849949691718,
          0.47639704065713157,
          0.4451917375733603,
          -1.0240285765628179,
          -0.33441142925077605,
          -0.05307895859652579,
          -1.118938862708624,
          -2.204071308649611,
          1.8555724335873953,
          -0.2979675639594873,
          1.353850770235442,
          2.3311881224176965,
          0.7762831554505244,
          0.08205159495070947,
          -1.760032752563385,
          -1.0539767462015155
         ],
         "z": [
          -0.1152968383439748,
          0.9296324928279707,
          -0.4642748311669281,
          2.76102466195415,
          5.096171150446379,
          0.8138684647921369,
          -0.6090236602029504,
          0.007834309770783258,
          -0.32372673654703515,
          -0.3967313995258511,
          -1.5074639103753107,
          -0.7404257807527878,
          0.6025240500678848,
          -0.8135276136144282,
          0.8593307999934047,
          0.09771188735120491,
          0.22773918981217334,
          -0.9940375519515244,
          0.8629246752173616,
          -0.8723530413921841,
          0.22967074137932156,
          0.4535574962479434,
          -0.8264845567657298,
          0.17903662322507752,
          0.7141262917120245,
          1.0816852576573153,
          -2.0301774827035612,
          -0.3325521084420496,
          0.816309344345648,
          0.13398793273845136,
          -0.11555318411288507,
          -0.20882274626212632,
          0.2821169941500695,
          0.5457673949658005,
          -1.5139740200370617,
          -0.2748771659208628,
          -0.6288806078382922,
          -1.3656952379624094,
          0.15384165786049456,
          -2.6425147358735215,
          0.32555938781808313,
          0.37044712583309825,
          0.31578446190244086,
          -0.4255441354439892,
          -1.060913767978613,
          -0.5732633068594505,
          0.911569019455555,
          0.5958566415874721,
          -1.0275300415058923,
          -1.1293671143703459,
          0.6869644430602617,
          2.017505346328299,
          -1.1009615064643932,
          0.7436059615127952,
          -0.3466072983894083,
          -0.7107384798783891,
          -0.457867014664035,
          -0.4972212376784249,
          -0.41157312095022686,
          0.06330248944316176,
          -0.4808024150514187,
          1.3286641987154781,
          1.1352194670422648,
          0.012043802197172306,
          0.5666671108027566,
          -0.34922660408272416,
          0.10152664521256113,
          0.36766775631961546,
          0.10871608603728748,
          1.4699772430475138,
          -0.3134155007973322,
          0.01908529986182355,
          -0.5186184309227877,
          1.722423501725943,
          0.6594315371220019,
          0.8163275576319835,
          -0.589653604776136,
          -1.5228215308902884,
          -1.6442487211745516,
          0.1757901251741191,
          -0.40227786982833874,
          -0.4965529433312125,
          -0.035463300521081716,
          -1.3475044847378241,
          -0.8492053062406867,
          -0.028884776198288834,
          -2.187509886854151,
          0.41301430469750083,
          1.9254125611445285,
          -1.2935937924309422,
          -1.097331151616535,
          -0.11665345684069453,
          -1.31569152976498,
          -0.0878742745110419,
          0.26366075903965464,
          -0.7738233869736684,
          1.6721702225753763,
          -0.0919347517489959,
          -0.9969877737242598,
          0.8200433276964421,
          -0.23603156348649545,
          0.489954967425207,
          -1.0476563859653414,
          -0.27020129694047995,
          -0.5781514577771937,
          -0.25610728817949957,
          3.313374438532159,
          0.03968675901782286,
          0.12845536203023228,
          -1.117274436425681,
          3.988600082317128,
          -0.9208374293372794,
          0.029738836840203352,
          -0.9553810684534378,
          -1.059264835161832,
          0.3142867798996301,
          -0.8708687848238852,
          0.7091648761605804,
          0.28477584301084446,
          2.725000350916608,
          0.6639110709408587,
          -0.4731950289212982,
          0.07402877963607084,
          3.765325955732263,
          -0.5700699041226661,
          1.487271328411762,
          -1.0696713471038979,
          -0.1253062873267888,
          -1.8588083630217447,
          -1.505734594194759,
          0.3690699667211664,
          1.6191661824835977,
          -0.9606731444851344,
          -0.31732722922261414,
          -0.31275366229873425,
          1.5202985808336387,
          -0.5376780219015161,
          0.07414901398367267,
          -1.3410952153344555,
          -1.5165629915947374,
          -0.22471903799252999,
          -0.3688721389616079,
          0.5745263764930618,
          0.21626289350957892,
          1.558596404946515,
          0.46872253542524767,
          -1.5548424886717225,
          0.7318127453661031,
          -2.2780692189720737,
          -0.7237720492132229,
          0.1570868981430145,
          1.33940159510133,
          0.9990557192664268,
          0.5149379352605894,
          -0.2798630714841448,
          0.807466739089835,
          0.7397069631890651,
          -0.09679002043469424,
          -0.22324516976464207,
          -0.4223330164784123,
          1.3481851929654747,
          -1.6283876370436792,
          1.336431952460424,
          0.24171159298355682,
          -1.266515595320123,
          -1.077763597314107,
          -0.25630331031780257,
          0.19335470240184263,
          0.6494030434721572,
          -0.29606458771055283,
          0.8321082097455762,
          -0.4616432234863443,
          -1.6853876711280302,
          1.2757022007225989,
          0.09784114902072506,
          0.0031325091847876213,
          0.6055011943169265,
          -2.5609688372694888,
          1.5244241519394086,
          2.0390740378854684,
          1.0611795791114282,
          -0.46149487212575957,
          -0.9232828487164589,
          -0.7511487563206848,
          1.6600096109465194,
          -0.41203091697462796,
          -0.42085991878108936,
          0.20556884245840093,
          -0.8047799079438301,
          -0.0891384006781584,
          -0.7371698415165089,
          -2.0903500361688585,
          -0.34966903371557134,
          1.3243701831923915,
          -0.0214905703107987,
          0.488333408583341,
          0.8612007140577854,
          0.28897984936097604,
          -0.4347611384562165,
          0.015124620281464055,
          2.726094518824713,
          0.09948182229848461,
          1.5466754170970427,
          -0.25065043362038364,
          -1.0740775339698314,
          0.5125656370487409,
          2.609214924430154,
          0.11583649230197017,
          1.0217954972754333,
          0.47787823523245815,
          0.8378481875415908,
          2.171939215265851,
          0.33802148426880824,
          -0.8560182031785736,
          -0.07340084262413918,
          -0.8138791836101039,
          -0.27141193892333654,
          1.0441024848465117,
          1.314867903732364,
          -0.7927304702333078,
          -0.5871549101010869,
          -0.6985374056557347,
          -0.42327020723465225,
          -0.6715349037488305,
          -0.005365368864547452,
          -1.2893471044924791,
          0.037888150815339174,
          -1.2206587020622237,
          -0.42995885233177683,
          0.08639476785370669,
          0.2598637575356814,
          -0.0761014436662268,
          -0.09410162987579014,
          -0.916639859872173,
          -1.0027877009670525,
          -1.5644578871834356,
          -0.8124377693809371,
          -2.2385987533381124,
          1.3306987876983438,
          0.11780676613468699,
          -0.46952699036688034,
          -0.617091695414758,
          -0.6546027914484177,
          -0.25659749120139475,
          -1.007548146252812,
          1.3983991032134133,
          -0.5322358331276945,
          -0.9201481014785324,
          0.5591271674030194,
          2.0570522264717623,
          0.6101877283869552,
          -0.8560540539175931,
          0.00971818691294924,
          -0.504562210369391,
          0.6185512258279324,
          0.31705568096758585,
          -0.3130677803387533,
          -1.0779013757918372,
          0.27640838968116643,
          1.126177261887627,
          -0.01368244730932391,
          1.8686970927096083,
          0.2980356640586469,
          0.8252716430975583,
          -0.9143008510075066,
          0.7869229534595822,
          -1.0149905039061107,
          -0.37194649500832005,
          0.4046168693160794,
          0.22682683697130696,
          0.636842493068057,
          0.6452155008926999,
          -1.591640130668919,
          -0.631898300135029,
          0.2089095252934079,
          -1.0848113403657527,
          -1.2056989366096424,
          0.4496425999562147,
          -1.7016617387674975,
          -0.9499936840398475,
          0.22384374745660435,
          0.4642197388933689,
          0.46409592658639864,
          -0.5511144518903871,
          -0.7133542020910437,
          -0.4019964940147788,
          -0.4012619877170855,
          0.07427341390114055,
          2.0247570687870726,
          -0.9078531134114921,
          -0.4501733277870467,
          0.4723975597766084,
          -1.0093167286416953,
          -0.9444867071262697,
          0.23022151096336282,
          0.3314388610697392,
          -0.2309197925237922,
          0.1999493751055107,
          1.238891830637398,
          -0.09010144042353643,
          0.5531904107265477,
          1.7961080410998365,
          0.22246052560239948,
          -0.9765183647598468,
          0.12703030529234136,
          -0.3374450140752718,
          1.7849685443477221,
          0.7653603297207784,
          1.3164737259958421,
          -0.6310594861591982,
          1.304618815154505,
          -0.1020424144174072,
          0.6375686477352147,
          1.1832149385633275,
          0.5925849762176022,
          1.5431943761169147,
          0.2357171788844057,
          -0.8474573443664031,
          -0.40018021618049404,
          -0.9103919472200264,
          -0.5018459611757442,
          -2.193486439595505,
          -0.8392999866559298,
          0.7400231249663293,
          -0.5398416987095179,
          -1.553936229919289,
          0.026084303797554418,
          -0.2691951517311705,
          -0.16164085738792694,
          1.789774201191999,
          1.349539912001121,
          1.6163954405930365,
          -1.106445605747601,
          0.2771637412613498,
          0.3185215187656994,
          -0.9178348550357756,
          -0.04508562943737791,
          3.195096310869081,
          0.05410422168266386,
          -0.6908551041164346,
          -1.4773453376784742,
          -0.9676496956039758,
          -1.2187236815542635,
          -0.7239071887671694,
          -0.43096954796994646,
          -0.6290906191385764,
          0.40314913039132716,
          -3.1684987852757116,
          -1.0406052600019613,
          1.3747061219563719,
          -0.7745552715941687,
          -0.737375848222593,
          0.5578517310400233,
          0.9912266039437795,
          -0.6883703019792655,
          -0.3561073889210295,
          -1.1642877128320837,
          1.2502316440534702,
          0.9016407557043536,
          0.01639530412509964,
          0.23838978772832384,
          -0.27749401662445483,
          2.120735905483226,
          -0.28207761205159443,
          2.619257205346878,
          -0.9865294723141089,
          2.122128417711646,
          2.418402195874001,
          0.5449978262007217,
          -0.049787933055446244,
          0.23736543925924708,
          0.49164602503700333,
          -1.2987632462350995,
          0.017825571402442213,
          -0.21336065596036335,
          -0.12702471624714703,
          0.5902944211012139,
          0.1021069636384912,
          0.3906174059474064,
          -1.7175997799423135,
          0.4512477212868986,
          0.6571092056309445,
          -1.4113088907100164,
          -1.9874425626896541,
          -1.842089472163164,
          1.3650765243947005,
          -0.8594954734304331,
          2.067791117233838,
          -0.8873631235856422,
          -0.5196338119668586,
          -1.928054324306416,
          -0.06472111136407407
         ]
        }
       ],
       "layout": {
        "margin": {
         "b": 0,
         "l": 0,
         "r": 0,
         "t": 0
        },
        "scene": {
         "xaxis": {
          "title": {
           "text": "Principal Component 1"
          }
         },
         "yaxis": {
          "title": {
           "text": "Principal Component 2"
          }
         },
         "zaxis": {
          "title": {
           "text": "Principal Component 3"
          }
         }
        },
        "template": {
         "data": {
          "bar": [
           {
            "error_x": {
             "color": "#2a3f5f"
            },
            "error_y": {
             "color": "#2a3f5f"
            },
            "marker": {
             "line": {
              "color": "#E5ECF6",
              "width": 0.5
             },
             "pattern": {
              "fillmode": "overlay",
              "size": 10,
              "solidity": 0.2
             }
            },
            "type": "bar"
           }
          ],
          "barpolar": [
           {
            "marker": {
             "line": {
              "color": "#E5ECF6",
              "width": 0.5
             },
             "pattern": {
              "fillmode": "overlay",
              "size": 10,
              "solidity": 0.2
             }
            },
            "type": "barpolar"
           }
          ],
          "carpet": [
           {
            "aaxis": {
             "endlinecolor": "#2a3f5f",
             "gridcolor": "white",
             "linecolor": "white",
             "minorgridcolor": "white",
             "startlinecolor": "#2a3f5f"
            },
            "baxis": {
             "endlinecolor": "#2a3f5f",
             "gridcolor": "white",
             "linecolor": "white",
             "minorgridcolor": "white",
             "startlinecolor": "#2a3f5f"
            },
            "type": "carpet"
           }
          ],
          "choropleth": [
           {
            "colorbar": {
             "outlinewidth": 0,
             "ticks": ""
            },
            "type": "choropleth"
           }
          ],
          "contour": [
           {
            "colorbar": {
             "outlinewidth": 0,
             "ticks": ""
            },
            "colorscale": [
             [
              0,
              "#0d0887"
             ],
             [
              0.1111111111111111,
              "#46039f"
             ],
             [
              0.2222222222222222,
              "#7201a8"
             ],
             [
              0.3333333333333333,
              "#9c179e"
             ],
             [
              0.4444444444444444,
              "#bd3786"
             ],
             [
              0.5555555555555556,
              "#d8576b"
             ],
             [
              0.6666666666666666,
              "#ed7953"
             ],
             [
              0.7777777777777778,
              "#fb9f3a"
             ],
             [
              0.8888888888888888,
              "#fdca26"
             ],
             [
              1,
              "#f0f921"
             ]
            ],
            "type": "contour"
           }
          ],
          "contourcarpet": [
           {
            "colorbar": {
             "outlinewidth": 0,
             "ticks": ""
            },
            "type": "contourcarpet"
           }
          ],
          "heatmap": [
           {
            "colorbar": {
             "outlinewidth": 0,
             "ticks": ""
            },
            "colorscale": [
             [
              0,
              "#0d0887"
             ],
             [
              0.1111111111111111,
              "#46039f"
             ],
             [
              0.2222222222222222,
              "#7201a8"
             ],
             [
              0.3333333333333333,
              "#9c179e"
             ],
             [
              0.4444444444444444,
              "#bd3786"
             ],
             [
              0.5555555555555556,
              "#d8576b"
             ],
             [
              0.6666666666666666,
              "#ed7953"
             ],
             [
              0.7777777777777778,
              "#fb9f3a"
             ],
             [
              0.8888888888888888,
              "#fdca26"
             ],
             [
              1,
              "#f0f921"
             ]
            ],
            "type": "heatmap"
           }
          ],
          "heatmapgl": [
           {
            "colorbar": {
             "outlinewidth": 0,
             "ticks": ""
            },
            "colorscale": [
             [
              0,
              "#0d0887"
             ],
             [
              0.1111111111111111,
              "#46039f"
             ],
             [
              0.2222222222222222,
              "#7201a8"
             ],
             [
              0.3333333333333333,
              "#9c179e"
             ],
             [
              0.4444444444444444,
              "#bd3786"
             ],
             [
              0.5555555555555556,
              "#d8576b"
             ],
             [
              0.6666666666666666,
              "#ed7953"
             ],
             [
              0.7777777777777778,
              "#fb9f3a"
             ],
             [
              0.8888888888888888,
              "#fdca26"
             ],
             [
              1,
              "#f0f921"
             ]
            ],
            "type": "heatmapgl"
           }
          ],
          "histogram": [
           {
            "marker": {
             "pattern": {
              "fillmode": "overlay",
              "size": 10,
              "solidity": 0.2
             }
            },
            "type": "histogram"
           }
          ],
          "histogram2d": [
           {
            "colorbar": {
             "outlinewidth": 0,
             "ticks": ""
            },
            "colorscale": [
             [
              0,
              "#0d0887"
             ],
             [
              0.1111111111111111,
              "#46039f"
             ],
             [
              0.2222222222222222,
              "#7201a8"
             ],
             [
              0.3333333333333333,
              "#9c179e"
             ],
             [
              0.4444444444444444,
              "#bd3786"
             ],
             [
              0.5555555555555556,
              "#d8576b"
             ],
             [
              0.6666666666666666,
              "#ed7953"
             ],
             [
              0.7777777777777778,
              "#fb9f3a"
             ],
             [
              0.8888888888888888,
              "#fdca26"
             ],
             [
              1,
              "#f0f921"
             ]
            ],
            "type": "histogram2d"
           }
          ],
          "histogram2dcontour": [
           {
            "colorbar": {
             "outlinewidth": 0,
             "ticks": ""
            },
            "colorscale": [
             [
              0,
              "#0d0887"
             ],
             [
              0.1111111111111111,
              "#46039f"
             ],
             [
              0.2222222222222222,
              "#7201a8"
             ],
             [
              0.3333333333333333,
              "#9c179e"
             ],
             [
              0.4444444444444444,
              "#bd3786"
             ],
             [
              0.5555555555555556,
              "#d8576b"
             ],
             [
              0.6666666666666666,
              "#ed7953"
             ],
             [
              0.7777777777777778,
              "#fb9f3a"
             ],
             [
              0.8888888888888888,
              "#fdca26"
             ],
             [
              1,
              "#f0f921"
             ]
            ],
            "type": "histogram2dcontour"
           }
          ],
          "mesh3d": [
           {
            "colorbar": {
             "outlinewidth": 0,
             "ticks": ""
            },
            "type": "mesh3d"
           }
          ],
          "parcoords": [
           {
            "line": {
             "colorbar": {
              "outlinewidth": 0,
              "ticks": ""
             }
            },
            "type": "parcoords"
           }
          ],
          "pie": [
           {
            "automargin": true,
            "type": "pie"
           }
          ],
          "scatter": [
           {
            "fillpattern": {
             "fillmode": "overlay",
             "size": 10,
             "solidity": 0.2
            },
            "type": "scatter"
           }
          ],
          "scatter3d": [
           {
            "line": {
             "colorbar": {
              "outlinewidth": 0,
              "ticks": ""
             }
            },
            "marker": {
             "colorbar": {
              "outlinewidth": 0,
              "ticks": ""
             }
            },
            "type": "scatter3d"
           }
          ],
          "scattercarpet": [
           {
            "marker": {
             "colorbar": {
              "outlinewidth": 0,
              "ticks": ""
             }
            },
            "type": "scattercarpet"
           }
          ],
          "scattergeo": [
           {
            "marker": {
             "colorbar": {
              "outlinewidth": 0,
              "ticks": ""
             }
            },
            "type": "scattergeo"
           }
          ],
          "scattergl": [
           {
            "marker": {
             "colorbar": {
              "outlinewidth": 0,
              "ticks": ""
             }
            },
            "type": "scattergl"
           }
          ],
          "scattermapbox": [
           {
            "marker": {
             "colorbar": {
              "outlinewidth": 0,
              "ticks": ""
             }
            },
            "type": "scattermapbox"
           }
          ],
          "scatterpolar": [
           {
            "marker": {
             "colorbar": {
              "outlinewidth": 0,
              "ticks": ""
             }
            },
            "type": "scatterpolar"
           }
          ],
          "scatterpolargl": [
           {
            "marker": {
             "colorbar": {
              "outlinewidth": 0,
              "ticks": ""
             }
            },
            "type": "scatterpolargl"
           }
          ],
          "scatterternary": [
           {
            "marker": {
             "colorbar": {
              "outlinewidth": 0,
              "ticks": ""
             }
            },
            "type": "scatterternary"
           }
          ],
          "surface": [
           {
            "colorbar": {
             "outlinewidth": 0,
             "ticks": ""
            },
            "colorscale": [
             [
              0,
              "#0d0887"
             ],
             [
              0.1111111111111111,
              "#46039f"
             ],
             [
              0.2222222222222222,
              "#7201a8"
             ],
             [
              0.3333333333333333,
              "#9c179e"
             ],
             [
              0.4444444444444444,
              "#bd3786"
             ],
             [
              0.5555555555555556,
              "#d8576b"
             ],
             [
              0.6666666666666666,
              "#ed7953"
             ],
             [
              0.7777777777777778,
              "#fb9f3a"
             ],
             [
              0.8888888888888888,
              "#fdca26"
             ],
             [
              1,
              "#f0f921"
             ]
            ],
            "type": "surface"
           }
          ],
          "table": [
           {
            "cells": {
             "fill": {
              "color": "#EBF0F8"
             },
             "line": {
              "color": "white"
             }
            },
            "header": {
             "fill": {
              "color": "#C8D4E3"
             },
             "line": {
              "color": "white"
             }
            },
            "type": "table"
           }
          ]
         },
         "layout": {
          "annotationdefaults": {
           "arrowcolor": "#2a3f5f",
           "arrowhead": 0,
           "arrowwidth": 1
          },
          "autotypenumbers": "strict",
          "coloraxis": {
           "colorbar": {
            "outlinewidth": 0,
            "ticks": ""
           }
          },
          "colorscale": {
           "diverging": [
            [
             0,
             "#8e0152"
            ],
            [
             0.1,
             "#c51b7d"
            ],
            [
             0.2,
             "#de77ae"
            ],
            [
             0.3,
             "#f1b6da"
            ],
            [
             0.4,
             "#fde0ef"
            ],
            [
             0.5,
             "#f7f7f7"
            ],
            [
             0.6,
             "#e6f5d0"
            ],
            [
             0.7,
             "#b8e186"
            ],
            [
             0.8,
             "#7fbc41"
            ],
            [
             0.9,
             "#4d9221"
            ],
            [
             1,
             "#276419"
            ]
           ],
           "sequential": [
            [
             0,
             "#0d0887"
            ],
            [
             0.1111111111111111,
             "#46039f"
            ],
            [
             0.2222222222222222,
             "#7201a8"
            ],
            [
             0.3333333333333333,
             "#9c179e"
            ],
            [
             0.4444444444444444,
             "#bd3786"
            ],
            [
             0.5555555555555556,
             "#d8576b"
            ],
            [
             0.6666666666666666,
             "#ed7953"
            ],
            [
             0.7777777777777778,
             "#fb9f3a"
            ],
            [
             0.8888888888888888,
             "#fdca26"
            ],
            [
             1,
             "#f0f921"
            ]
           ],
           "sequentialminus": [
            [
             0,
             "#0d0887"
            ],
            [
             0.1111111111111111,
             "#46039f"
            ],
            [
             0.2222222222222222,
             "#7201a8"
            ],
            [
             0.3333333333333333,
             "#9c179e"
            ],
            [
             0.4444444444444444,
             "#bd3786"
            ],
            [
             0.5555555555555556,
             "#d8576b"
            ],
            [
             0.6666666666666666,
             "#ed7953"
            ],
            [
             0.7777777777777778,
             "#fb9f3a"
            ],
            [
             0.8888888888888888,
             "#fdca26"
            ],
            [
             1,
             "#f0f921"
            ]
           ]
          },
          "colorway": [
           "#636efa",
           "#EF553B",
           "#00cc96",
           "#ab63fa",
           "#FFA15A",
           "#19d3f3",
           "#FF6692",
           "#B6E880",
           "#FF97FF",
           "#FECB52"
          ],
          "font": {
           "color": "#2a3f5f"
          },
          "geo": {
           "bgcolor": "white",
           "lakecolor": "white",
           "landcolor": "#E5ECF6",
           "showlakes": true,
           "showland": true,
           "subunitcolor": "white"
          },
          "hoverlabel": {
           "align": "left"
          },
          "hovermode": "closest",
          "mapbox": {
           "style": "light"
          },
          "paper_bgcolor": "white",
          "plot_bgcolor": "#E5ECF6",
          "polar": {
           "angularaxis": {
            "gridcolor": "white",
            "linecolor": "white",
            "ticks": ""
           },
           "bgcolor": "#E5ECF6",
           "radialaxis": {
            "gridcolor": "white",
            "linecolor": "white",
            "ticks": ""
           }
          },
          "scene": {
           "xaxis": {
            "backgroundcolor": "#E5ECF6",
            "gridcolor": "white",
            "gridwidth": 2,
            "linecolor": "white",
            "showbackground": true,
            "ticks": "",
            "zerolinecolor": "white"
           },
           "yaxis": {
            "backgroundcolor": "#E5ECF6",
            "gridcolor": "white",
            "gridwidth": 2,
            "linecolor": "white",
            "showbackground": true,
            "ticks": "",
            "zerolinecolor": "white"
           },
           "zaxis": {
            "backgroundcolor": "#E5ECF6",
            "gridcolor": "white",
            "gridwidth": 2,
            "linecolor": "white",
            "showbackground": true,
            "ticks": "",
            "zerolinecolor": "white"
           }
          },
          "shapedefaults": {
           "line": {
            "color": "#2a3f5f"
           }
          },
          "ternary": {
           "aaxis": {
            "gridcolor": "white",
            "linecolor": "white",
            "ticks": ""
           },
           "baxis": {
            "gridcolor": "white",
            "linecolor": "white",
            "ticks": ""
           },
           "bgcolor": "#E5ECF6",
           "caxis": {
            "gridcolor": "white",
            "linecolor": "white",
            "ticks": ""
           }
          },
          "title": {
           "x": 0.05
          },
          "xaxis": {
           "automargin": true,
           "gridcolor": "white",
           "linecolor": "white",
           "ticks": "",
           "title": {
            "standoff": 15
           },
           "zerolinecolor": "white",
           "zerolinewidth": 2
          },
          "yaxis": {
           "automargin": true,
           "gridcolor": "white",
           "linecolor": "white",
           "ticks": "",
           "title": {
            "standoff": 15
           },
           "zerolinecolor": "white",
           "zerolinewidth": 2
          }
         }
        },
        "title": {
         "text": "3D PCA Plot"
        }
       }
      }
     },
     "metadata": {},
     "output_type": "display_data"
    }
   ],
   "source": [
    "x_values = principalDf['principal component 1']\n",
    "y_values = principalDf['principal component 2']\n",
    "z_values = principalDf['principal component 3']\n",
    "colors = new_df['Outcome'] \n",
    "\n",
    "# Create a 3D scatter plot\n",
    "fig = go.Figure(data=[go.Scatter3d(\n",
    "    x=x_values,\n",
    "    y=y_values,\n",
    "    z=z_values,\n",
    "    mode='markers',\n",
    "    marker=dict(\n",
    "        size=5,\n",
    "        color=colors,                \n",
    "        colorscale='Viridis',  \n",
    "        opacity=0.8\n",
    "    )\n",
    ")])\n",
    "\n",
    "\n",
    "fig.update_layout(\n",
    "    title='3D PCA Plot',\n",
    "    scene = dict(\n",
    "        xaxis_title='Principal Component 1',\n",
    "        yaxis_title='Principal Component 2',\n",
    "        zaxis_title='Principal Component 3'\n",
    "    ),\n",
    "    margin=dict(r=0, b=0, l=0, t=0)  \n",
    ")\n",
    "\n",
    "\n",
    "fig.show()\n"
   ]
  }
 ],
 "metadata": {
  "kernelspec": {
   "display_name": "MLDM",
   "language": "python",
   "name": "python3"
  },
  "language_info": {
   "codemirror_mode": {
    "name": "ipython",
    "version": 3
   },
   "file_extension": ".py",
   "mimetype": "text/x-python",
   "name": "python",
   "nbconvert_exporter": "python",
   "pygments_lexer": "ipython3",
   "version": "3.11.7"
  }
 },
 "nbformat": 4,
 "nbformat_minor": 2
}
