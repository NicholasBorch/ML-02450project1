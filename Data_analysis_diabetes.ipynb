{
 "cells": [
  {
   "cell_type": "code",
   "execution_count": 1,
   "metadata": {},
   "outputs": [
    {
     "name": "stderr",
     "output_type": "stream",
     "text": [
      "/var/folders/tc/p_2dw00d5zg0svx3_qj__8tc0000gn/T/ipykernel_44816/3174091764.py:1: DeprecationWarning: \n",
      "Pyarrow will become a required dependency of pandas in the next major release of pandas (pandas 3.0),\n",
      "(to allow more performant data types, such as the Arrow string type, and better interoperability with other libraries)\n",
      "but was not found to be installed on your system.\n",
      "If this would cause problems for you,\n",
      "please provide us feedback at https://github.com/pandas-dev/pandas/issues/54466\n",
      "        \n",
      "  import pandas as pd\n"
     ]
    }
   ],
   "source": [
    "import pandas as pd\n",
    "from sklearn.preprocessing import StandardScaler\n",
    "from sklearn.decomposition import PCA\n",
    "import matplotlib.pyplot as plt\n",
    "from mpl_toolkits.mplot3d import Axes3D\n",
    "from scipy.linalg import svd\n",
    "import numpy as np"
   ]
  },
  {
   "cell_type": "code",
   "execution_count": 2,
   "metadata": {},
   "outputs": [
    {
     "data": {
      "text/html": [
       "<div>\n",
       "<style scoped>\n",
       "    .dataframe tbody tr th:only-of-type {\n",
       "        vertical-align: middle;\n",
       "    }\n",
       "\n",
       "    .dataframe tbody tr th {\n",
       "        vertical-align: top;\n",
       "    }\n",
       "\n",
       "    .dataframe thead th {\n",
       "        text-align: right;\n",
       "    }\n",
       "</style>\n",
       "<table border=\"1\" class=\"dataframe\">\n",
       "  <thead>\n",
       "    <tr style=\"text-align: right;\">\n",
       "      <th></th>\n",
       "      <th>Pregnancies</th>\n",
       "      <th>Glucose</th>\n",
       "      <th>BloodPressure</th>\n",
       "      <th>SkinThickness</th>\n",
       "      <th>Insulin</th>\n",
       "      <th>BMI</th>\n",
       "      <th>DiabetesPedigreeFunction</th>\n",
       "      <th>Age</th>\n",
       "      <th>Outcome</th>\n",
       "    </tr>\n",
       "  </thead>\n",
       "  <tbody>\n",
       "    <tr>\n",
       "      <th>0</th>\n",
       "      <td>6</td>\n",
       "      <td>148</td>\n",
       "      <td>72</td>\n",
       "      <td>35</td>\n",
       "      <td>0</td>\n",
       "      <td>33.6</td>\n",
       "      <td>0.627</td>\n",
       "      <td>50</td>\n",
       "      <td>1</td>\n",
       "    </tr>\n",
       "    <tr>\n",
       "      <th>1</th>\n",
       "      <td>1</td>\n",
       "      <td>85</td>\n",
       "      <td>66</td>\n",
       "      <td>29</td>\n",
       "      <td>0</td>\n",
       "      <td>26.6</td>\n",
       "      <td>0.351</td>\n",
       "      <td>31</td>\n",
       "      <td>0</td>\n",
       "    </tr>\n",
       "    <tr>\n",
       "      <th>2</th>\n",
       "      <td>8</td>\n",
       "      <td>183</td>\n",
       "      <td>64</td>\n",
       "      <td>0</td>\n",
       "      <td>0</td>\n",
       "      <td>23.3</td>\n",
       "      <td>0.672</td>\n",
       "      <td>32</td>\n",
       "      <td>1</td>\n",
       "    </tr>\n",
       "    <tr>\n",
       "      <th>3</th>\n",
       "      <td>1</td>\n",
       "      <td>89</td>\n",
       "      <td>66</td>\n",
       "      <td>23</td>\n",
       "      <td>94</td>\n",
       "      <td>28.1</td>\n",
       "      <td>0.167</td>\n",
       "      <td>21</td>\n",
       "      <td>0</td>\n",
       "    </tr>\n",
       "    <tr>\n",
       "      <th>4</th>\n",
       "      <td>0</td>\n",
       "      <td>137</td>\n",
       "      <td>40</td>\n",
       "      <td>35</td>\n",
       "      <td>168</td>\n",
       "      <td>43.1</td>\n",
       "      <td>2.288</td>\n",
       "      <td>33</td>\n",
       "      <td>1</td>\n",
       "    </tr>\n",
       "  </tbody>\n",
       "</table>\n",
       "</div>"
      ],
      "text/plain": [
       "   Pregnancies  Glucose  BloodPressure  SkinThickness  Insulin   BMI  \\\n",
       "0            6      148             72             35        0  33.6   \n",
       "1            1       85             66             29        0  26.6   \n",
       "2            8      183             64              0        0  23.3   \n",
       "3            1       89             66             23       94  28.1   \n",
       "4            0      137             40             35      168  43.1   \n",
       "\n",
       "   DiabetesPedigreeFunction  Age  Outcome  \n",
       "0                     0.627   50        1  \n",
       "1                     0.351   31        0  \n",
       "2                     0.672   32        1  \n",
       "3                     0.167   21        0  \n",
       "4                     2.288   33        1  "
      ]
     },
     "metadata": {},
     "output_type": "display_data"
    }
   ],
   "source": [
    "file_path = 'diabetes.csv'\n",
    "df = pd.read_csv(file_path)\n",
    "\n",
    "display(df.head())"
   ]
  },
  {
   "cell_type": "code",
   "execution_count": 3,
   "metadata": {},
   "outputs": [
    {
     "data": {
      "text/html": [
       "<div>\n",
       "<style scoped>\n",
       "    .dataframe tbody tr th:only-of-type {\n",
       "        vertical-align: middle;\n",
       "    }\n",
       "\n",
       "    .dataframe tbody tr th {\n",
       "        vertical-align: top;\n",
       "    }\n",
       "\n",
       "    .dataframe thead th {\n",
       "        text-align: right;\n",
       "    }\n",
       "</style>\n",
       "<table border=\"1\" class=\"dataframe\">\n",
       "  <thead>\n",
       "    <tr style=\"text-align: right;\">\n",
       "      <th></th>\n",
       "      <th>Pregnancies</th>\n",
       "      <th>Glucose</th>\n",
       "      <th>BloodPressure</th>\n",
       "      <th>SkinThickness</th>\n",
       "      <th>Insulin</th>\n",
       "      <th>BMI</th>\n",
       "      <th>DiabetesPedigreeFunction</th>\n",
       "      <th>Age</th>\n",
       "      <th>Outcome</th>\n",
       "    </tr>\n",
       "  </thead>\n",
       "  <tbody>\n",
       "    <tr>\n",
       "      <th>0</th>\n",
       "      <td>1</td>\n",
       "      <td>89.0</td>\n",
       "      <td>66.0</td>\n",
       "      <td>23.0</td>\n",
       "      <td>94.0</td>\n",
       "      <td>28.1</td>\n",
       "      <td>0.167</td>\n",
       "      <td>21</td>\n",
       "      <td>0</td>\n",
       "    </tr>\n",
       "    <tr>\n",
       "      <th>1</th>\n",
       "      <td>0</td>\n",
       "      <td>137.0</td>\n",
       "      <td>40.0</td>\n",
       "      <td>35.0</td>\n",
       "      <td>168.0</td>\n",
       "      <td>43.1</td>\n",
       "      <td>2.288</td>\n",
       "      <td>33</td>\n",
       "      <td>1</td>\n",
       "    </tr>\n",
       "    <tr>\n",
       "      <th>2</th>\n",
       "      <td>3</td>\n",
       "      <td>78.0</td>\n",
       "      <td>50.0</td>\n",
       "      <td>32.0</td>\n",
       "      <td>88.0</td>\n",
       "      <td>31.0</td>\n",
       "      <td>0.248</td>\n",
       "      <td>26</td>\n",
       "      <td>1</td>\n",
       "    </tr>\n",
       "    <tr>\n",
       "      <th>3</th>\n",
       "      <td>2</td>\n",
       "      <td>197.0</td>\n",
       "      <td>70.0</td>\n",
       "      <td>45.0</td>\n",
       "      <td>543.0</td>\n",
       "      <td>30.5</td>\n",
       "      <td>0.158</td>\n",
       "      <td>53</td>\n",
       "      <td>1</td>\n",
       "    </tr>\n",
       "    <tr>\n",
       "      <th>4</th>\n",
       "      <td>1</td>\n",
       "      <td>189.0</td>\n",
       "      <td>60.0</td>\n",
       "      <td>23.0</td>\n",
       "      <td>846.0</td>\n",
       "      <td>30.1</td>\n",
       "      <td>0.398</td>\n",
       "      <td>59</td>\n",
       "      <td>1</td>\n",
       "    </tr>\n",
       "  </tbody>\n",
       "</table>\n",
       "</div>"
      ],
      "text/plain": [
       "   Pregnancies  Glucose  BloodPressure  SkinThickness  Insulin   BMI  \\\n",
       "0            1     89.0           66.0           23.0     94.0  28.1   \n",
       "1            0    137.0           40.0           35.0    168.0  43.1   \n",
       "2            3     78.0           50.0           32.0     88.0  31.0   \n",
       "3            2    197.0           70.0           45.0    543.0  30.5   \n",
       "4            1    189.0           60.0           23.0    846.0  30.1   \n",
       "\n",
       "   DiabetesPedigreeFunction  Age  Outcome  \n",
       "0                     0.167   21        0  \n",
       "1                     2.288   33        1  \n",
       "2                     0.248   26        1  \n",
       "3                     0.158   53        1  \n",
       "4                     0.398   59        1  "
      ]
     },
     "metadata": {},
     "output_type": "display_data"
    },
    {
     "data": {
      "text/plain": [
       "392"
      ]
     },
     "execution_count": 3,
     "metadata": {},
     "output_type": "execute_result"
    }
   ],
   "source": [
    "# Replace 0's with NaN\n",
    "df['Glucose'] = df['Glucose'].replace(0, np.nan) # 1 observation med 0\n",
    "df['BloodPressure'] = df['BloodPressure'].replace(0, np.nan) # 0 m 0\n",
    "df['SkinThickness'] = df['SkinThickness'].replace(0, np.nan) # 0 m 0\n",
    "df['Insulin'] = df['Insulin'].replace(0, np.nan) #236 observationer med 0\n",
    "df['BMI'] = df['BMI'].replace(0, np.nan) # 1 med 0\n",
    "df['Age'] = df['Age'].replace(0, np.nan) # 0 m 0\n",
    "# Remove NaN rows in data\n",
    "df_no_nan = df.dropna()\n",
    "df_no_nan.to_csv('diabetes_removed_nan.csv', index=False)\n",
    "\n",
    "new_df = pd.read_csv(\"diabetes_removed_nan.csv\")\n",
    "\n",
    "display(new_df.head())\n",
    "len(new_df) #originalt: 768, efter alle: 392"
   ]
  },
  {
   "cell_type": "code",
   "execution_count": 4,
   "metadata": {},
   "outputs": [
    {
     "data": {
      "text/plain": [
       "7"
      ]
     },
     "execution_count": 4,
     "metadata": {},
     "output_type": "execute_result"
    }
   ],
   "source": [
    "# Standardize data\n",
    "\n",
    "features = [col for col in df.columns if col not in ['Outcome', 'DiabetesPedigreeFunction']]\n",
    "x = new_df.loc[:, features].values\n",
    "x = StandardScaler().fit_transform(x)\n",
    "len(x.T)"
   ]
  },
  {
   "cell_type": "code",
   "execution_count": 5,
   "metadata": {},
   "outputs": [
    {
     "name": "stdout",
     "output_type": "stream",
     "text": [
      "Pregnancies\n",
      "min 0 \n",
      "max 17 \n",
      "mean 3.3010204081632653 \n",
      "median 2.0 \n",
      "var 10.286937734277386\n",
      "Low outliers: 0 High outliers: 22 Tot: 22 Percent: 0.056\n"
     ]
    },
    {
     "data": {
      "image/png": "[encoded data removed]",
      "text/plain": [
       "<Figure size 640x480 with 1 Axes>"
      ]
     },
     "metadata": {},
     "output_type": "display_data"
    },
    {
     "data": {
      "image/png": "[encoded data removed]",
      "text/plain": [
       "<Figure size 640x480 with 1 Axes>"
      ]
     },
     "metadata": {},
     "output_type": "display_data"
    },
    {
     "name": "stdout",
     "output_type": "stream",
     "text": [
      "Glucose\n",
      "min 56.0 \n",
      "max 198.0 \n",
      "mean 122.62755102040816 \n",
      "median 119.0 \n",
      "var 949.9582205331112\n",
      "Low outliers: 0 High outliers: 11 Tot: 11 Percent: 0.028\n"
     ]
    },
    {
     "data": {
      "image/png": "[encoded data removed]",
      "text/plain": [
       "<Figure size 640x480 with 1 Axes>"
      ]
     },
     "metadata": {},
     "output_type": "display_data"
    },
    {
     "data": {
      "image/png": "[encoded data removed]",
      "text/plain": [
       "<Figure size 640x480 with 1 Axes>"
      ]
     },
     "metadata": {},
     "output_type": "display_data"
    },
    {
     "name": "stdout",
     "output_type": "stream",
     "text": [
      "BloodPressure\n",
      "min 24.0 \n",
      "max 110.0 \n",
      "mean 70.66326530612245 \n",
      "median 70.0 \n",
      "var 155.7539566847147\n",
      "Low outliers: 8 High outliers: 8 Tot: 16 Percent: 0.041\n"
     ]
    },
    {
     "data": {
      "image/png": "[encoded data removed]",
      "text/plain": [
       "<Figure size 640x480 with 1 Axes>"
      ]
     },
     "metadata": {},
     "output_type": "display_data"
    },
    {
     "data": {
      "image/png": "[encoded data removed]",
      "text/plain": [
       "<Figure size 640x480 with 1 Axes>"
      ]
     },
     "metadata": {},
     "output_type": "display_data"
    },
    {
     "name": "stdout",
     "output_type": "stream",
     "text": [
      "SkinThickness\n",
      "min 7.0 \n",
      "max 63.0 \n",
      "mean 29.145408163265305 \n",
      "median 29.0 \n",
      "var 110.3130401395252\n",
      "Low outliers: 0 High outliers: 3 Tot: 3 Percent: 0.008\n"
     ]
    },
    {
     "data": {
      "image/png": "[encoded data removed]",
      "text/plain": [
       "<Figure size 640x480 with 1 Axes>"
      ]
     },
     "metadata": {},
     "output_type": "display_data"
    },
    {
     "data": {
      "image/png": "[encoded data removed]",
      "text/plain": [
       "<Figure size 640x480 with 1 Axes>"
      ]
     },
     "metadata": {},
     "output_type": "display_data"
    },
    {
     "name": "stdout",
     "output_type": "stream",
     "text": [
      "Insulin\n",
      "min 14.0 \n",
      "max 846.0 \n",
      "mean 156.05612244897958 \n",
      "median 125.5 \n",
      "var 14087.318278842149\n",
      "Low outliers: 0 High outliers: 37 Tot: 37 Percent: 0.094\n"
     ]
    },
    {
     "data": {
      "image/png": "[encoded data removed]",
      "text/plain": [
       "<Figure size 640x480 with 1 Axes>"
      ]
     },
     "metadata": {},
     "output_type": "display_data"
    },
    {
     "data": {
      "image/png": "[encoded data removed]",
      "text/plain": [
       "<Figure size 640x480 with 1 Axes>"
      ]
     },
     "metadata": {},
     "output_type": "display_data"
    },
    {
     "name": "stdout",
     "output_type": "stream",
     "text": [
      "BMI\n",
      "min 18.2 \n",
      "max 67.1 \n",
      "mean 33.08622448979592 \n",
      "median 33.2 \n",
      "var 49.26200411286964\n",
      "Low outliers: 7 High outliers: 15 Tot: 22 Percent: 0.056\n"
     ]
    },
    {
     "data": {
      "image/png": "[encoded data removed]",
      "text/plain": [
       "<Figure size 640x480 with 1 Axes>"
      ]
     },
     "metadata": {},
     "output_type": "display_data"
    },
    {
     "data": {
      "image/png": "[encoded data removed]",
      "text/plain": [
       "<Figure size 640x480 with 1 Axes>"
      ]
     },
     "metadata": {},
     "output_type": "display_data"
    },
    {
     "name": "stdout",
     "output_type": "stream",
     "text": [
      "Age\n",
      "min 21 \n",
      "max 81 \n",
      "mean 30.864795918367346 \n",
      "median 27.0 \n",
      "var 103.79039332569765\n",
      "Low outliers: 0 High outliers: 32 Tot: 32 Percent: 0.082\n"
     ]
    },
    {
     "data": {
      "image/png": "[encoded data removed]",
      "text/plain": [
       "<Figure size 640x480 with 1 Axes>"
      ]
     },
     "metadata": {},
     "output_type": "display_data"
    },
    {
     "data": {
      "image/png": "[encoded data removed]",
      "text/plain": [
       "<Figure size 640x480 with 1 Axes>"
      ]
     },
     "metadata": {},
     "output_type": "display_data"
    }
   ],
   "source": [
    "from scipy.stats import iqr\n",
    "for i, att in enumerate(x.T):\n",
    "    print(features[i])\n",
    "    print('min', min(new_df[features[i]]), '\\nmax', max(new_df[features[i]]), '\\nmean', np.mean(new_df[features[i]])    \n",
    "          , '\\nmedian',  np.median(new_df[features[i]]), '\\nvar', np.var(new_df[features[i]]))\n",
    "    iqr_data = iqr(att)\n",
    "    q1, q3 = np.quantile(att,0.25), np.quantile(att,0.75) \n",
    "    thresh_low, thresh_high = q1 - iqr_data, q3 + iqr_data\n",
    "    out_low, out_high = 0,0\n",
    "    for obs in att:\n",
    "        if obs < thresh_low: out_low +=1\n",
    "        if obs > thresh_high: out_high += 1\n",
    "    print('Low outliers:', out_low, 'High outliers:', out_high, 'Tot:', out_high+out_low, \n",
    "          'Percent:', np.round((out_low+out_high)/len(att),3))\n",
    "    plt.hist(att)\n",
    "    plt.show()\n",
    "    plt.boxplot(att)\n",
    "    plt.show()"
   ]
  },
  {
   "cell_type": "code",
   "execution_count": 6,
   "metadata": {},
   "outputs": [],
   "source": [
    "# PCA\n",
    "\n",
    "pca = PCA()\n",
    "principalComponents = pca.fit_transform(x)"
   ]
  },
  {
   "cell_type": "code",
   "execution_count": 7,
   "metadata": {},
   "outputs": [],
   "source": [
    "principalDf = pd.DataFrame(data = principalComponents\n",
    "             , columns = ['principal component 1', 'principal component 2', 'principal component 3', 'principal component 4', 'principal component 5', 'principal component 6', 'principal component 7'])"
   ]
  },
  {
   "cell_type": "code",
   "execution_count": 8,
   "metadata": {},
   "outputs": [
    {
     "name": "stdout",
     "output_type": "stream",
     "text": [
      "[0.35931313 0.21922033 0.16852208 0.10846325 0.05740043 0.04444452\n",
      " 0.04263626]\n"
     ]
    },
    {
     "data": {
      "text/plain": [
       "0.7470555387374158"
      ]
     },
     "execution_count": 8,
     "metadata": {},
     "output_type": "execute_result"
    }
   ],
   "source": [
    "print(pca.explained_variance_ratio_)\n",
    "sum(pca.explained_variance_ratio_[:3])"
   ]
  },
  {
   "cell_type": "code",
   "execution_count": 9,
   "metadata": {},
   "outputs": [
    {
     "name": "stderr",
     "output_type": "stream",
     "text": [
      "/var/folders/tc/p_2dw00d5zg0svx3_qj__8tc0000gn/T/ipykernel_44816/633147097.py:5: UserWarning: You passed a edgecolor/edgecolors ('k') for an unfilled marker ('x').  Matplotlib is ignoring the edgecolor in favor of the facecolor.  This behavior may change in the future.\n",
      "  plt.scatter(principalDf.loc[indicesToKeep, 'principal component 1'],\n"
     ]
    },
    {
     "data": {
      "image/png": "[encoded data removed]",
      "text/plain": [
       "<Figure size 800x600 with 1 Axes>"
      ]
     },
     "metadata": {},
     "output_type": "display_data"
    },
    {
     "name": "stdout",
     "output_type": "stream",
     "text": [
      "[-1.91422693  0.20052065 -0.11529684 -0.2090557   0.30851624 -0.19647147\n",
      " -0.08639281]\n",
      "['Pregnancies', 'Glucose', 'BloodPressure', 'SkinThickness', 'Insulin', 'BMI', 'Age']\n"
     ]
    }
   ],
   "source": [
    "plt.figure(figsize=(8, 6))\n",
    "\n",
    "for outcome, color in zip([0, 1], [\"#000080\", \"#40E0D0\"]):\n",
    "    indicesToKeep = new_df['Outcome'] == outcome\n",
    "    plt.scatter(principalDf.loc[indicesToKeep, 'principal component 1'],\n",
    "                principalDf.loc[indicesToKeep, 'principal component 2'],\n",
    "                c=color, edgecolor='k', alpha=0.7, s=50, marker='x',\n",
    "                label=('Non-Diabetic' if outcome == 0 else 'Diabetic'))\n",
    "\n",
    "plt.xlabel('Principal Component 1')\n",
    "plt.ylabel('Principal Component 2')\n",
    "plt.title('PCA of Diabetes Dataset')\n",
    "plt.grid(True)\n",
    "plt.legend()\n",
    "plt.show()\n",
    "print(principalComponents[0])\n",
    "print(features)"
   ]
  },
  {
   "cell_type": "code",
   "execution_count": 10,
   "metadata": {},
   "outputs": [
    {
     "data": {
      "image/png": "[encoded data removed]",
      "text/plain": [
       "<Figure size 1200x600 with 1 Axes>"
      ]
     },
     "metadata": {},
     "output_type": "display_data"
    }
   ],
   "source": [
    "Y = x - np.ones((x.shape[0], 1)) * x.mean(0)\n",
    "U, S, Vh = svd(Y, full_matrices=False)\n",
    "V = Vh.T\n",
    "\n",
    "new_new_df = new_df.drop(['Outcome', 'DiabetesPedigreeFunction'], axis=1)\n",
    "attributeNames = list(new_new_df.columns)\n",
    "\n",
    "pcs = [0, 1, 2]\n",
    "legendStrs = [\"PC\" + str(e + 1) for e in pcs]\n",
    "bw = 0.2\n",
    "r = np.arange(1, len(attributeNames) + 1)\n",
    "colors = [\"r\", \"g\", \"b\"]  \n",
    "\n",
    "plt.figure(figsize=(12, 6))\n",
    "for i in pcs:\n",
    "    plt.bar(r + i * bw, V[:, i], width=bw, color=colors[i])\n",
    "plt.xticks(r + bw, attributeNames, rotation=45, ha=\"right\")\n",
    "plt.xlabel(\"Attributes\")\n",
    "plt.ylabel(\"Component coefficients\")\n",
    "plt.legend(legendStrs)\n",
    "plt.grid()\n",
    "plt.title(\"Diabetes Dataset: PCA Component Coefficients\")\n",
    "plt.tight_layout()  \n",
    "plt.show()\n"
   ]
  },
  {
   "cell_type": "code",
   "execution_count": 11,
   "metadata": {},
   "outputs": [
    {
     "data": {
      "image/png": "[encoded data removed]",
      "text/plain": [
       "<Figure size 800x600 with 1 Axes>"
      ]
     },
     "metadata": {},
     "output_type": "display_data"
    }
   ],
   "source": [
    "# Plotting 3D\n",
    "fig = plt.figure(figsize=(8, 6))\n",
    "ax = fig.add_subplot(111, projection='3d')\n",
    "\n",
    "# Extracting the values for each component\n",
    "x_values = principalDf['principal component 1']\n",
    "y_values = principalDf['principal component 2']\n",
    "z_values = principalDf['principal component 3']\n",
    "colors = new_df['Outcome']\n",
    "\n",
    "# Plotting\n",
    "ax.scatter(x_values, y_values, z_values, c = colors, cmap='viridis', marker='o')\n",
    "\n",
    "# Adding labels for each axis\n",
    "ax.set_xlabel('Principal Component 1')\n",
    "ax.set_ylabel('Principal Component 2')\n",
    "ax.set_zlabel('Principal Component 3')\n",
    "\n",
    "# Title\n",
    "ax.set_title('3D PCA Plot')\n",
    "\n",
    "# Show plot\n",
    "plt.show()"
   ]
  },
  {
   "cell_type": "code",
   "execution_count": 12,
   "metadata": {},
   "outputs": [
    {
     "data": {
      "application/vnd.plotly.v1+json": {
       "config": {
        "plotlyServerURL": "https://plot.ly"
       },
       "data": [
        {
         "marker": {
          "color": [
           0,
           1,
           1,
           1,
           1,
           1,
           1,
           0,
           1,
           0,
           1,
           1,
           0,
           0,
           1,
           0,
           0,
           1,
           0,
           1,
           0,
           0,
           0,
           1,
           0,
           1,
           0,
           0,
           0,
           0,
           0,
           1,
           0,
           0,
           0,
           0,
           0,
           1,
           0,
           0,
           0,
           0,
           0,
           0,
           1,
           0,
           0,
           0,
           0,
           1,
           1,
           1,
           0,
           1,
           0,
           1,
           0,
           1,
           0,
           0,
           1,
           1,
           1,
           0,
           0,
           0,
           0,
           0,
           0,
           0,
           0,
           0,
           1,
           0,
           0,
           0,
           0,
           1,
           0,
           0,
           1,
           0,
           1,
           0,
           0,
           1,
           1,
           0,
           1,
           1,
           1,
           1,
           0,
           1,
           1,
           1,
           1,
           0,
           0,
           1,
           0,
           1,
           1,
           1,
           1,
           0,
           1,
           0,
           0,
           0,
           0,
           0,
           1,
           0,
           0,
           1,
           0,
           1,
           0,
           0,
           0,
           0,
           1,
           0,
           1,
           0,
           0,
           0,
           0,
           0,
           0,
           0,
           0,
           0,
           0,
           0,
           1,
           0,
           0,
           0,
           1,
           1,
           1,
           0,
           1,
           0,
           1,
           1,
           0,
           0,
           1,
           0,
           1,
           1,
           0,
           1,
           0,
           0,
           0,
           0,
           0,
           1,
           0,
           1,
           1,
           0,
           0,
           0,
           0,
           1,
           0,
           0,
           0,
           0,
           0,
           0,
           1,
           0,
           1,
           1,
           0,
           0,
           0,
           1,
           1,
           0,
           0,
           0,
           1,
           0,
           0,
           0,
           0,
           0,
           0,
           0,
           0,
           1,
           0,
           0,
           0,
           0,
           0,
           0,
           1,
           0,
           1,
           0,
           0,
           0,
           1,
           1,
           1,
           0,
           0,
           0,
           1,
           1,
           1,
           0,
           1,
           0,
           0,
           0,
           0,
           1,
           0,
           0,
           1,
           0,
           0,
           0,
           0,
           0,
           1,
           0,
           0,
           0,
           0,
           0,
           0,
           0,
           1,
           0,
           0,
           1,
           0,
           0,
           1,
           0,
           0,
           0,
           1,
           0,
           1,
           0,
           0,
           0,
           1,
           0,
           0,
           0,
           0,
           1,
           1,
           0,
           0,
           0,
           0,
           0,
           0,
           0,
           0,
           0,
           0,
           1,
           1,
           1,
           0,
           0,
           1,
           1,
           0,
           0,
           0,
           0,
           0,
           0,
           1,
           0,
           0,
           0,
           0,
           0,
           0,
           1,
           0,
           0,
           0,
           0,
           0,
           1,
           1,
           0,
           0,
           0,
           1,
           0,
           0,
           1,
           1,
           0,
           0,
           0,
           0,
           1,
           1,
           1,
           0,
           0,
           0,
           0,
           0,
           0,
           0,
           1,
           0,
           0,
           0,
           0,
           1,
           1,
           1,
           0,
           0,
           0,
           0,
           1,
           0,
           0,
           1,
           1,
           1,
           0,
           0,
           0,
           0,
           0,
           0,
           0,
           0,
           0,
           0,
           0,
           1,
           0,
           1,
           1,
           1,
           0,
           0,
           0,
           0,
           1,
           0,
           0,
           0,
           1,
           1,
           0,
           0,
           1,
           0,
           0,
           1,
           1,
           0,
           0,
           0,
           1,
           0,
           0,
           0,
           0,
           0,
           1,
           0,
           1,
           1,
           0,
           0,
           0
          ],
          "colorscale": [
           [
            0,
            "#440154"
           ],
           [
            0.1111111111111111,
            "#482878"
           ],
           [
            0.2222222222222222,
            "#3e4989"
           ],
           [
            0.3333333333333333,
            "#31688e"
           ],
           [
            0.4444444444444444,
            "#26828e"
           ],
           [
            0.5555555555555556,
            "#1f9e89"
           ],
           [
            0.6666666666666666,
            "#35b779"
           ],
           [
            0.7777777777777778,
            "#6ece58"
           ],
           [
            0.8888888888888888,
            "#b5de2b"
           ],
           [
            1,
            "#fde725"
           ]
          ],
          "opacity": 0.8,
          "size": 5
         },
         "mode": "markers",
         "type": "scatter3d",
         "x": [
          -1.914226930240626,
          -0.13357194828095184,
          -1.6370680586263293,
          3.4274162843870193,
          3.301583725166678,
          0.9674578310648307,
          1.4989469773106068,
          -0.9200379392392147,
          -0.38946144026636487,
          1.3256604461381647,
          2.851671701127581,
          0.7863465995563172,
          -2.1630229213587917,
          1.6430874669201034,
          0.9309622835925362,
          -2.627959202841577,
          -0.626083868994691,
          2.0047150427718674,
          0.010651454088233422,
          4.0191034847094365,
          -2.212181911706511,
          -2.6503891720650112,
          -1.621518654753267,
          3.539289004364466,
          2.2152564371053667,
          2.671902221947155,
          1.513043998508344,
          -0.3183395909792625,
          -0.8241699193389932,
          -2.6372876201572697,
          0.16500064866539726,
          -1.239002710190329,
          -0.05442670679253018,
          0.37996856210827484,
          -0.3211444149029486,
          -0.5143525255912555,
          -0.855030843442939,
          2.050353105369634,
          -0.04000760476234294,
          1.2367398403934815,
          -1.082900482001028,
          1.1780693349125264,
          -3.253681350706468,
          -1.5093489792833312,
          2.1390421716526937,
          -2.158266900925405,
          -1.2518639334876152,
          -0.001962988466754423,
          -1.4686257492713342,
          -0.9088503114843931,
          0.4758678419683787,
          2.2993933395241988,
          -1.171717133959997,
          0.806106043690012,
          -1.8640649783176542,
          1.9467119104312702,
          -0.701179908257096,
          -0.6207184818935648,
          0.3521696297568725,
          -0.9112385026756025,
          0.3975310153445362,
          0.1553538246482216,
          0.9738922693424599,
          -2.311845965762689,
          -0.7331847117177145,
          -1.6414605588201223,
          -1.988983078393295,
          0.5592443260884404,
          -1.6518494834126918,
          0.384706300627124,
          -0.45428919185653494,
          0.8775484775844642,
          1.9571355497986032,
          2.031571546903853,
          -2.529290924297544,
          -1.9264168453223198,
          -1.7858763717697659,
          3.3871412026957333,
          1.2257266662045447,
          0.7826344254611367,
          -0.03250941698981884,
          -0.8371513139825072,
          0.1580138846314172,
          -0.7931922724563456,
          -1.560865974637536,
          1.881992191051504,
          2.9204716448028933,
          -1.408471221553688,
          3.5685738875160027,
          0.7522750234566885,
          0.40799223089452114,
          0.5625887240812586,
          1.302979862126816,
          1.8770129183624389,
          -2.25687840324318,
          -0.05340528035671406,
          0.3579180797765515,
          -2.116509675643927,
          1.4956482398301454,
          3.342609548659995,
          -1.485551237192999,
          -0.24401881422663046,
          1.1873589689513309,
          2.7664188035448616,
          -0.011644602801890336,
          0.04582910448236726,
          0.7681565109728303,
          1.633620921001048,
          -2.191828381450008,
          -1.2781602467550863,
          3.437885507969003,
          -0.06953280903400405,
          2.9441399351279514,
          -1.8667322038903469,
          -1.6639649320410563,
          2.3604907839411196,
          -0.8590854526980725,
          -0.7601802909019859,
          0.8519062137644698,
          3.1944526332522973,
          1.7336979497100358,
          -1.9215191581312387,
          0.01088059965216184,
          -0.2940022702748952,
          2.1815513414942562,
          0.2695957233033709,
          -0.24500170835034585,
          -1.5996887606053152,
          -0.7432611227112109,
          0.1944620097631403,
          -1.729470318941508,
          -1.6662261414292765,
          1.266310151395291,
          0.7107144341877758,
          0.9538768558302221,
          3.1442021967828087,
          1.2579144015012358,
          -2.3079067845752306,
          0.5062956496613749,
          -1.0557325883796005,
          -1.080466460473772,
          1.0403525394148367,
          -0.0026382178604122154,
          0.39441048435067655,
          0.7762139071697066,
          -0.15958064208342665,
          1.742568877228523,
          -0.4347355363612961,
          0.2472207979035654,
          0.3682310589754107,
          1.1342060782857275,
          -1.627059142003753,
          -1.0112898142497428,
          -0.12574822832691349,
          -0.37344730255161424,
          -0.7132512354391682,
          -2.0752175110566986,
          -0.9541587118576791,
          -1.7880607033194116,
          0.18108895057191893,
          -0.8069104749808079,
          1.8727645944952893,
          -0.655353674040403,
          -0.2593048000947627,
          0.4549673221147498,
          -0.013664481399324151,
          -2.0367661761731943,
          -2.4636059434828894,
          1.7618340617699315,
          1.5661929182377117,
          -1.635066161148476,
          -1.235317869944825,
          2.147169893379189,
          -1.8793299888538217,
          -2.003077464834311,
          -2.4863232024203685,
          -0.4582808897308701,
          1.4181830317344053,
          1.5586525961448545,
          1.3937517877557475,
          0.8305540643273894,
          -0.8668381349326761,
          -1.5941717015762638,
          1.255733029537896,
          2.640207064676981,
          -1.8656905353306525,
          -0.6775083208862827,
          -0.1105316139922618,
          3.918756981610155,
          -1.878730895177265,
          -1.1477335718454535,
          0.8631104016814466,
          -1.0181462336664266,
          -2.214294690466409,
          -2.287438616485069,
          -1.2493798951679371,
          -2.5013365082689307,
          2.1419135718138627,
          -1.0669943515763713,
          -0.1547967936875269,
          -0.954911463827615,
          -1.126827454183888,
          -0.7676052482443627,
          -0.8507779305155874,
          1.2200545733797612,
          -0.36116994744202763,
          2.7510471603118907,
          -0.4323729952970512,
          0.7761699261750177,
          -1.1804304748920578,
          -0.5101939456540427,
          1.9164461909714403,
          -0.7235110422906617,
          1.091391705058804,
          -2.0309398690013714,
          -0.46397689037633927,
          2.0717392082552033,
          2.0609199271389382,
          0.8416088443930099,
          1.2363869180818878,
          0.22128460048881327,
          -0.9395473806258947,
          -2.215801014741139,
          -1.7753461799414665,
          -0.6583603913169354,
          2.561200838737414,
          -1.920125265409154,
          -0.11580928558503538,
          -1.1248797246078157,
          -1.309939902479754,
          -2.6983663071220554,
          -0.47603327528885464,
          -1.1487076014166115,
          -1.143760032316964,
          3.4143464646436534,
          2.400679509165989,
          0.10227576578109719,
          0.3100771104657972,
          -2.4621449873268433,
          -3.233713202657321,
          -0.8569090268469035,
          1.8075178692476475,
          0.5133417226299618,
          -0.6451589518806788,
          0.662514515663607,
          1.2967552481100073,
          -1.7789139982975408,
          -0.6545784298785953,
          0.7003687470619825,
          1.155254325556936,
          2.8227039525001363,
          -1.2518525146961128,
          -0.047841786504482293,
          -1.8301053635579512,
          2.0648752281950866,
          1.165438788809798,
          -1.1248948683100746,
          -0.15168112089874747,
          1.0212715015317537,
          -1.252583289512289,
          -2.2585890326700713,
          -1.6061552329101798,
          -2.074028146439731,
          -0.24547557939396925,
          2.3589143473220684,
          1.1394981515723857,
          -1.7460005454067238,
          0.10830053201649112,
          -2.5521974451423315,
          -1.3357596279419721,
          -0.8704799076436328,
          -1.5334946794435886,
          0.01931174896514136,
          -1.8264921650035626,
          0.26550104587202067,
          1.5795885935594096,
          1.6693531981762781,
          -0.16186141949363675,
          -0.3706478596920499,
          -0.8997529615090029,
          2.649879696272938,
          2.7606785297935517,
          -0.2678013795849058,
          1.6590596201664574,
          -1.068679695264095,
          -1.9794405480752781,
          -1.2272118461605572,
          0.5660145153211413,
          1.345726105135,
          -0.9248678179151802,
          -1.2959511227609872,
          -2.4647164420993226,
          -1.046913171233839,
          0.200360864057259,
          0.6097613527998111,
          -0.28213986554487963,
          -1.3741432229780866,
          -1.6057647831842166,
          0.5509330479439962,
          -0.7847606247751782,
          -1.3689056232412056,
          2.482409996299311,
          1.9468174978690298,
          0.6657272487998981,
          -2.079055933370137,
          1.277776689032786,
          -0.005540688020131549,
          -3.4464986873220034,
          -2.5617886181791656,
          1.94029204481943,
          1.6471256642497858,
          -2.35184688728193,
          1.3656235465217272,
          -1.93975866752021,
          -1.409524213245595,
          0.39382802703985836,
          3.1058953526839135,
          1.9031905331011554,
          -3.1468744461537086,
          0.7741353041419892,
          -0.8318540648107091,
          0.5917316000941155,
          -0.4476655082639616,
          -0.8645308592300408,
          -1.4674609102329812,
          0.5292791198232367,
          -2.238639816576174,
          -1.1554975322972567,
          -0.6927511047259214,
          1.8079251094793642,
          -0.4183402672959251,
          0.0006284576171232941,
          1.6968696594265706,
          -2.1940906352495753,
          -1.110040021936887,
          0.355325526863897,
          -0.9042864621339894,
          0.9456228208753306,
          -1.7287475865704214,
          1.5232558820882742,
          -0.609291199957797,
          3.6549116514327067,
          2.3153314502939923,
          0.17452337649733238,
          0.38400063947809276,
          1.560936472728855,
          1.497967028210665,
          1.1577930039631745,
          2.137201003238354,
          -1.6760261453220155,
          -2.674553151829251,
          -0.48235570601464084,
          -0.15580732850973647,
          -0.7375638098071826,
          2.3585058311122555,
          -0.27615522803994597,
          1.8046035318110902,
          2.3599716503588075,
          0.08280525652853325,
          -0.09322019539920301,
          0.00459823858277962,
          -0.8614096417067326,
          -0.8017566472291449,
          -0.6874530898514684,
          0.016910049278697943,
          0.13633355405866757,
          -1.2064951316628485,
          1.739491539625051,
          1.3572408784673784,
          -0.2199908741180959,
          -0.25529618995178305,
          0.22815296171405614,
          1.1706839590602052,
          -0.14703384157470906,
          -0.29649085978862966,
          1.5342650829004951,
          -1.4009633243090889,
          -0.7639538351071774,
          -1.4125041816098822,
          2.4727225531034254,
          -1.8956350386200609,
          -1.9087790030901497,
          2.863884829122299,
          1.406857198498478,
          0.13287813029549914,
          1.1050975072730278,
          0.23329304701966927,
          2.895932141370431,
          0.9629010144370732,
          -2.119686545734573,
          2.623905088531778,
          -0.5597801940196995
         ],
         "y": [
          0.2005206485940555,
          1.4130881447005132,
          0.2267930116869488,
          -0.20810070808178752,
          -1.1067288994879454,
          -2.2405411955388557,
          2.345110260048669,
          1.3718507891671832,
          0.46255699942495954,
          1.2698068580158328,
          -1.7806992858478434,
          -1.9010047722153076,
          -0.5439328793654182,
          -4.127034257516086,
          0.3657294380281388,
          -0.9739929671453276,
          -0.7168855880182989,
          -0.15720833476262475,
          0.029197628831233387,
          -1.2496233183627032,
          -1.0245741843844332,
          -0.7380872639609892,
          -1.2894717631098271,
          -1.741861996931082,
          -0.40373458600320966,
          -0.3249394973830224,
          2.9341709604763135,
          2.11213255310017,
          0.08769794709631187,
          -1.0962844041802788,
          -0.39540666083349457,
          -0.06366807936291105,
          -0.2015820575077676,
          0.08828810334044489,
          -1.260877149412314,
          0.34145813841823613,
          0.6604731749182123,
          -2.1370556450087874,
          -0.9168016158430424,
          0.3800408128444037,
          -0.5065743823164637,
          -0.8863010275290265,
          -0.6583847943696132,
          -0.4353548752100026,
          2.642738070185025,
          -0.2731529545762223,
          0.466135386958574,
          -0.7788044824730538,
          0.44861170299480196,
          1.0159210417965474,
          0.46594314065495096,
          -1.410462977402935,
          0.7940274326170348,
          -1.1370475306754513,
          -1.0403699294676882,
          3.4199894373373474,
          0.6485593493307865,
          2.787665900084234,
          0.8693665232257612,
          1.0044543746371994,
          -0.11253190911205144,
          -1.1788975213648418,
          0.4930457948016514,
          -1.1871767481581286,
          -0.1473674939656824,
          0.6679175957061868,
          0.4376503214139021,
          0.25377411604324057,
          0.38607052829745264,
          0.31391166138708426,
          0.11669513234294047,
          1.9250542878588446,
          -1.4459377661368853,
          2.0249542471018174,
          -0.6084040172604613,
          -0.21731048118409685,
          -0.12297574368242135,
          -2.0168537197405625,
          -0.4884840811639228,
          1.8868866990220219,
          -1.6005595792470848,
          -0.9467744857676686,
          -0.48189236544899194,
          2.0713649497234847,
          -0.35633344135447265,
          -0.6021799028380245,
          4.131089092100276,
          0.5412379945897481,
          -1.9543094901082023,
          0.6840131708094755,
          -0.7736721333019729,
          0.10913444058925048,
          -0.7828324682015212,
          0.7853632807358947,
          -1.1048957710143656,
          0.840619432303648,
          -0.250261771370713,
          -1.1638851061714361,
          -1.0334006981084607,
          -1.676010807096772,
          0.7437596258830188,
          1.417341880830318,
          -0.9436312479437629,
          -0.6365036659468131,
          0.6822751538041082,
          -0.7333725747415547,
          1.2051485597071692,
          -2.18795604750314,
          -0.7476702715486051,
          0.8076849923747408,
          0.7966856504557817,
          1.838767180285258,
          0.3108751767302463,
          0.03485080742646543,
          0.10328539121063302,
          -1.7112556159589578,
          0.41409856915858806,
          -1.3259753402895893,
          0.9397497289059517,
          2.8149984715756675,
          -0.62441242930596,
          -0.7709789995577859,
          -3.329852405815602,
          -0.4113121244376348,
          -2.286080565591746,
          -0.9719609542044731,
          -1.279378524643692,
          0.13638817930651703,
          1.7471520678588928,
          1.9949084964971782,
          0.24259200956623173,
          -0.7054764624337523,
          -1.3498811033942393,
          -1.5411156457175952,
          -2.2432016385177693,
          0.823239356417959,
          1.91124004669347,
          -1.3949814584255897,
          0.4099105014353418,
          1.3140839715665953,
          1.0906390531402792,
          1.3451731267792189,
          1.9185230615993718,
          -0.13191759097438954,
          0.36927425656307356,
          0.7274440573586944,
          -2.3361959969156523,
          0.47485893226932246,
          0.2505704193242376,
          1.1253096525650115,
          -2.7749051572554513,
          -0.29824975687481764,
          0.19778147433631868,
          0.2171672752345072,
          1.7930806768271714,
          -0.6892903601114422,
          -0.822286629388078,
          0.1926492704759136,
          -1.7383366445709751,
          0.9767531331922965,
          -1.2584100157146771,
          -2.586970175305573,
          -0.2570646943183913,
          0.6919471566542468,
          1.850377850034826,
          -0.8144943805570012,
          -0.12599965045266545,
          -0.4159588578852939,
          2.5022202325504286,
          -0.7861632054146037,
          -0.48134986935231017,
          -0.7464472170406936,
          -0.9196045587896471,
          -0.0738642374897069,
          -1.0470512107269387,
          -0.5062768585287468,
          0.9644758184563357,
          -1.6203395106568412,
          0.9807987081463894,
          -0.18924225944909337,
          -0.06571627363049658,
          -0.25712215967968133,
          -0.4977363535619741,
          -0.3068319698958557,
          1.643112351282042,
          0.9048073752900795,
          1.0548610115335872,
          1.1476174501111132,
          -1.5594152358544375,
          -0.23191053394587458,
          1.4269499065160318,
          1.6099084852855596,
          0.5430415763908256,
          -0.6271705701334811,
          -0.45053125955610845,
          -0.2667126328496128,
          -0.8881500408925272,
          -1.681763017050757,
          -0.20671926813801655,
          -0.16449266550015773,
          -0.39736451565487213,
          -1.991925174440361,
          -0.10145761012212695,
          -0.7668122475791799,
          0.13571724103696123,
          1.2233831027752915,
          2.2358676948241047,
          0.8194262915979613,
          1.3243300523755663,
          -0.06961580197186777,
          1.3374824539779984,
          0.9477263531727835,
          -0.37924250596279435,
          2.08453834912412,
          -0.3538121763522314,
          2.268064444847304,
          -0.14933372925479835,
          0.5860650821948421,
          0.09632879475730625,
          2.0757765508311508,
          -0.12744636342739826,
          -1.0248037009895137,
          -0.20108183429111307,
          0.2847274240717596,
          0.09202835122811795,
          4.120224633599705,
          -0.818633540262539,
          1.7244263131429343,
          1.2948872364985116,
          0.06387375546231444,
          -0.8348412338932224,
          1.5361491239538099,
          0.8233383158439198,
          -0.2421184513700118,
          -0.8729768367216477,
          -3.7016277291879947,
          -3.034871563767656,
          -0.526359505330559,
          -0.5943890032185852,
          -0.28179976461751877,
          1.391002269968312,
          1.1796223896199458,
          1.0786370016678495,
          -1.8584458101337797,
          -1.3835585859872495,
          0.12940250847646304,
          -0.7201946597039269,
          1.437531475474442,
          2.1492855067534173,
          2.068862708486423,
          0.46543190187799616,
          0.7647250555851319,
          -1.578541758401734,
          -0.32487093854843874,
          -2.2820872436616213,
          -1.0128657225217403,
          -0.375251132725704,
          -1.2565486545223972,
          0.40559884565061227,
          0.215563187370369,
          0.18197737801698746,
          -0.3552350739667132,
          -0.6694131174803799,
          -0.4894244084255143,
          -1.9778765334956971,
          -3.6382869916083047,
          0.011679134289460604,
          0.4416090401219323,
          -0.7483406709975698,
          -0.7680576867527358,
          0.8816150313697003,
          -0.14223431228190192,
          2.0595785802102378,
          0.7382282119835899,
          1.530201482233754,
          1.1134420891821675,
          -0.3315001051917241,
          0.013119105905109967,
          0.4089372358682089,
          0.3963862452367924,
          -0.7349761317231204,
          -0.6347389445994747,
          -0.3394992993990996,
          -0.015990667284177792,
          0.2854911229748182,
          0.2565989269990577,
          0.5711867421100296,
          -1.2901293513275702,
          1.3900192718225712,
          1.2525111331511358,
          -1.4484124801742495,
          -0.576166983037592,
          1.2531808253940737,
          -1.0947176857131844,
          -0.5996869211692857,
          0.5864719658517135,
          0.1932494735261933,
          0.2326429359612892,
          0.645534501054869,
          1.5066501502290317,
          -1.759000831737003,
          -2.0520820168573013,
          -1.0413504458582195,
          1.9137546560922374,
          -0.16093277903579775,
          0.15558704895804235,
          0.17842918127167068,
          -0.09266048105869926,
          -0.6772687696561862,
          -1.5669689210088418,
          1.8711906074196223,
          -0.5971776564577315,
          1.8335806530328362,
          -0.6145523183598062,
          -0.147743821182248,
          -0.5693162516912607,
          -0.04839305723549806,
          -2.092781639050647,
          -1.1157143375555456,
          1.3395762215073714,
          1.7289018444434607,
          1.0893070637966218,
          1.43743411965556,
          -0.12511601500926334,
          -0.009654140866986866,
          0.0534133942953216,
          -1.273884008316561,
          -0.049394196620177626,
          -0.13022105268974116,
          1.1065972148587757,
          -1.0305027509717932,
          1.5027073974972682,
          -1.9353708582486302,
          -0.04594061330214226,
          0.32208435851477624,
          0.34148880011116384,
          0.8389859994209286,
          0.9701615195207397,
          -0.020224613033955705,
          1.2077372464326488,
          0.418693492096272,
          -0.25323772227744584,
          -0.32595424310689236,
          1.5163368460394462,
          -0.7402436197335268,
          -1.7993456571829702,
          -1.4319631832479327,
          -1.8687700617751222,
          2.649694234914743,
          -0.5433508102911724,
          -0.09735041475314593,
          2.258416076074358,
          0.38609238337179597,
          -0.0816938892480826,
          1.404916238627313,
          1.1263753766903821,
          0.04735004599409655,
          -1.4146440396492033,
          -0.7057756692252561,
          -0.6254750107085787,
          0.5995565456653525,
          -0.6924194430874657,
          0.4386732867195149,
          1.1089724565597079,
          -0.39118024619944763,
          -1.1302404507980033,
          0.14792221660950075,
          -0.5268161408243999,
          0.4721387451328146,
          1.6141386446244852,
          1.541146830521227,
          -0.4759622260328225,
          -0.2952947389765944,
          0.9130908401352779,
          -0.7544601477121682,
          1.6725909697659491,
          0.22628499496917068,
          0.4763970406571302,
          0.44519173757335806,
          -1.0240285765628159,
          -0.3344114292507773,
          -0.0530789585965275,
          -1.1189388627086216,
          -2.2040713086496106,
          1.8555724335873915,
          -0.2979675639594835,
          1.3538507702354405,
          2.3311881224177,
          0.7762831554505241,
          0.08205159495070609,
          -1.7600327525633819,
          -1.0539767462015157
         ],
         "z": [
          -0.11529683834397016,
          0.9296324928279692,
          -0.4642748311669258,
          2.761024661954149,
          5.096171150446376,
          0.8138684647921376,
          -0.6090236602029525,
          0.007834309770784786,
          -0.32372673654703593,
          -0.3967313995258521,
          -1.5074639103753082,
          -0.7404257807527844,
          0.6025240500678848,
          -0.8135276136144236,
          0.859330799993403,
          0.09771188735120603,
          0.22773918981217584,
          -0.9940375519515217,
          0.8629246752173592,
          -0.872353041392185,
          0.22967074137932061,
          0.4535574962479441,
          -0.8264845567657277,
          0.17903662322507827,
          0.7141262917120264,
          1.0816852576573153,
          -2.0301774827035626,
          -0.3325521084420509,
          0.8163093443456473,
          0.13398793273845133,
          -0.11555318411288627,
          -0.20882274626212632,
          0.28211699415007,
          0.545767394965799,
          -1.5139740200370584,
          -0.27487716592086325,
          -0.6288806078382927,
          -1.3656952379624046,
          0.15384165786049425,
          -2.6425147358735184,
          0.3255593878180805,
          0.370447125833099,
          0.31578446190244297,
          -0.42554413544398667,
          -1.0609137679786151,
          -0.5732633068594503,
          0.9115690194555541,
          0.595856641587473,
          -1.0275300415058912,
          -1.1293671143703479,
          0.6869644430602594,
          2.017505346328302,
          -1.1009615064643936,
          0.743605961512797,
          -0.34660729838940796,
          -0.7107384798783939,
          -0.4578670146640357,
          -0.4972212376784245,
          -0.4115731209502275,
          0.06330248944316115,
          -0.48080241505142013,
          1.3286641987154766,
          1.1352194670422633,
          0.012043802197172934,
          0.5666671108027559,
          -0.34922660408272527,
          0.10152664521256086,
          0.36766775631961646,
          0.10871608603728761,
          1.469977243047513,
          -0.31341550079733127,
          0.019085299861821763,
          -0.5186184309227866,
          1.7224235017259393,
          0.6594315371220022,
          0.8163275576319832,
          -0.5896536047761358,
          -1.5228215308902828,
          -1.6442487211745487,
          0.17579012517411663,
          -0.4022778698283365,
          -0.4965529433312134,
          -0.03546330052108145,
          -1.3475044847378237,
          -0.8492053062406849,
          -0.02888477619828868,
          -2.1875098868541563,
          0.4130143046974988,
          1.9254125611445314,
          -1.2935937924309444,
          -1.097331151616532,
          -0.11665345684069503,
          -1.3156915297649765,
          -0.08787427451104339,
          0.2636607590396551,
          -0.7738233869736673,
          1.672170222575376,
          -0.09193475174899539,
          -0.9969877737242563,
          0.8200433276964424,
          -0.23603156348649598,
          0.4899549674252039,
          -1.0476563859653383,
          -0.27020129694047673,
          -0.5781514577771922,
          -0.25610728817949824,
          3.313374438532156,
          0.03968675901782667,
          0.1284553620302322,
          -1.1172744364256821,
          3.988600082317127,
          -0.9208374293372824,
          0.029738836840204553,
          -0.9553810684534376,
          -1.0592648351618308,
          0.31428677989963005,
          -0.8708687848238843,
          0.7091648761605832,
          0.28477584301084274,
          2.725000350916603,
          0.6639110709408612,
          -0.4731950289212982,
          0.07402877963607715,
          3.76532595573226,
          -0.570069904122663,
          1.4872713284117598,
          -1.0696713471038959,
          -0.1253062873267887,
          -1.8588083630217445,
          -1.5057345941947595,
          0.3690699667211655,
          1.6191661824835983,
          -0.9606731444851315,
          -0.3173272292226136,
          -0.31275366229873164,
          1.5202985808336382,
          -0.537678021901518,
          0.07414901398367484,
          -1.3410952153344542,
          -1.5165629915947392,
          -0.22471903799253107,
          -0.3688721389616095,
          0.574526376493061,
          0.21626289350957922,
          1.5585964049465142,
          0.46872253542524506,
          -1.5548424886717158,
          0.731812745366102,
          -2.278069218972072,
          -0.7237720492132239,
          0.1570868981430173,
          1.3394015951013276,
          0.9990557192664247,
          0.5149379352605887,
          -0.2798630714841463,
          0.8074667390898331,
          0.7397069631890655,
          -0.09679002043469481,
          -0.22324516976464154,
          -0.42233301647841215,
          1.3481851929654751,
          -1.6283876370436754,
          1.3364319524604218,
          0.24171159298355602,
          -1.266515595320125,
          -1.0777635973141049,
          -0.2563033103178019,
          0.19335470240184272,
          0.649403043472153,
          -0.29606458771055155,
          0.8321082097455744,
          -0.4616432234863439,
          -1.6853876711280285,
          1.2757022007225978,
          0.09784114902072623,
          0.003132509184787612,
          0.6055011943169262,
          -2.560968837269483,
          1.524424151939404,
          2.0390740378854666,
          1.0611795791114274,
          -0.4614948721257572,
          -0.9232828487164589,
          -0.7511487563206869,
          1.6600096109465172,
          -0.4120309169746287,
          -0.4208599187810887,
          0.20556884245840104,
          -0.8047799079438255,
          -0.08913840067816,
          -0.7371698415165088,
          -2.0903500361688603,
          -0.34966903371557206,
          1.3243701831923909,
          -0.021490570310798165,
          0.4883334085833399,
          0.8612007140577853,
          0.28897984936097715,
          -0.4347611384562159,
          0.015124620281465061,
          2.7260945188247114,
          0.09948182229848562,
          1.5466754170970425,
          -0.25065043362038086,
          -1.0740775339698312,
          0.5125656370487407,
          2.6092149244301517,
          0.11583649230196914,
          1.0217954972754295,
          0.4778782352324556,
          0.8378481875415886,
          2.1719392152658483,
          0.33802148426880835,
          -0.856018203178576,
          -0.07340084262413922,
          -0.8138791836101051,
          -0.27141193892333587,
          1.0441024848465095,
          1.3148679037323618,
          -0.7927304702333114,
          -0.5871549101010868,
          -0.6985374056557334,
          -0.4232702072346523,
          -0.6715349037488302,
          -0.005365368864547312,
          -1.2893471044924851,
          0.037888150815338625,
          -1.2206587020622244,
          -0.42995885233177766,
          0.08639476785370481,
          0.2598637575356818,
          -0.07610144366622736,
          -0.09410162987579002,
          -0.9166398598721711,
          -1.0027877009670494,
          -1.56445788718343,
          -0.8124377693809332,
          -2.238598753338109,
          1.3306987876983425,
          0.11780676613468745,
          -0.4695269903668808,
          -0.617091695414759,
          -0.6546027914484179,
          -0.25659749120139264,
          -1.0075481462528089,
          1.3983991032134122,
          -0.5322358331276924,
          -0.9201481014785338,
          0.5591271674030168,
          2.0570522264717606,
          0.6101877283869527,
          -0.8560540539175924,
          0.009718186912950325,
          -0.5045622103693905,
          0.6185512258279332,
          0.3170556809675865,
          -0.313067780338755,
          -1.0779013757918334,
          0.2764083896811609,
          1.1261772618876256,
          -0.013682447309322473,
          1.8686970927096067,
          0.298035664058648,
          0.8252716430975564,
          -0.9143008510075038,
          0.7869229534595855,
          -1.0149905039061087,
          -0.37194649500832094,
          0.4046168693160796,
          0.22682683697130637,
          0.6368424930680557,
          0.6452155008926993,
          -1.5916401306689183,
          -0.6318983001350281,
          0.20890952529340548,
          -1.0848113403657542,
          -1.2056989366096391,
          0.44964259995621403,
          -1.7016617387674982,
          -0.9499936840398476,
          0.2238437474566036,
          0.4642197388933676,
          0.4640959265863984,
          -0.5511144518903889,
          -0.7133542020910427,
          -0.40199649401477866,
          -0.4012619877170854,
          0.07427341390114327,
          2.0247570687870677,
          -0.9078531134114923,
          -0.450173327787044,
          0.4723975597766092,
          -1.0093167286416969,
          -0.9444867071262659,
          0.23022151096336207,
          0.3314388610697381,
          -0.23091979252379188,
          0.19994937510551059,
          1.2388918306373953,
          -0.09010144042353634,
          0.5531904107265512,
          1.7961080410998407,
          0.22246052560239798,
          -0.9765183647598477,
          0.127030305292343,
          -0.3374450140752701,
          1.784968544347717,
          0.7653603297207803,
          1.3164737259958432,
          -0.6310594861591966,
          1.304618815154501,
          -0.10204241441740654,
          0.637568647735211,
          1.1832149385633268,
          0.592584976217603,
          1.5431943761169131,
          0.23571717888440558,
          -0.8474573443663995,
          -0.40018021618049215,
          -0.9103919472200273,
          -0.5018459611757459,
          -2.1934864395955036,
          -0.8392999866559311,
          0.740023124966327,
          -0.5398416987095185,
          -1.5539362299192867,
          0.02608430379755431,
          -0.2691951517311723,
          -0.16164085738792622,
          1.7897742011919966,
          1.3495399120011184,
          1.6163954405930334,
          -1.1064456057475978,
          0.27716374126135057,
          0.3185215187656985,
          -0.9178348550357751,
          -0.045085629437378955,
          3.1950963108690793,
          0.05410422168266508,
          -0.6908551041164351,
          -1.4773453376784733,
          -0.9676496956039761,
          -1.2187236815542617,
          -0.7239071887671709,
          -0.43096954796994263,
          -0.6290906191385747,
          0.4031491303913278,
          -3.168498785275708,
          -1.0406052600019646,
          1.3747061219563728,
          -0.7745552715941662,
          -0.7373758482225942,
          0.5578517310400218,
          0.9912266039437775,
          -0.6883703019792675,
          -0.3561073889210308,
          -1.1642877128320812,
          1.250231644053472,
          0.9016407557043511,
          0.01639530412509809,
          0.23838978772832256,
          -0.27749401662445455,
          2.120735905483226,
          -0.2820776120515944,
          2.6192572053468752,
          -0.986529472314108,
          2.122128417711645,
          2.4184021958740014,
          0.5449978262007195,
          -0.049787933055446175,
          0.23736543925924591,
          0.4916460250370025,
          -1.2987632462350989,
          0.01782557140244059,
          -0.2133606559603639,
          -0.12702471624715167,
          0.5902944211012143,
          0.10210696363848858,
          0.3906174059474061,
          -1.7175997799423097,
          0.45124772128690005,
          0.6571092056309441,
          -1.4113088907100142,
          -1.9874425626896486,
          -1.8420894721631638,
          1.3650765243946983,
          -0.8594954734304348,
          2.0677911172338335,
          -0.887363123585644,
          -0.5196338119668577,
          -1.9280543243064094,
          -0.06472111136407332
         ]
        }
       ],
       "layout": {
        "margin": {
         "b": 0,
         "l": 0,
         "r": 0,
         "t": 0
        },
        "scene": {
         "xaxis": {
          "title": {
           "text": "Principal Component 1"
          }
         },
         "yaxis": {
          "title": {
           "text": "Principal Component 2"
          }
         },
         "zaxis": {
          "title": {
           "text": "Principal Component 3"
          }
         }
        },
        "template": {
         "data": {
          "bar": [
           {
            "error_x": {
             "color": "#2a3f5f"
            },
            "error_y": {
             "color": "#2a3f5f"
            },
            "marker": {
             "line": {
              "color": "#E5ECF6",
              "width": 0.5
             },
             "pattern": {
              "fillmode": "overlay",
              "size": 10,
              "solidity": 0.2
             }
            },
            "type": "bar"
           }
          ],
          "barpolar": [
           {
            "marker": {
             "line": {
              "color": "#E5ECF6",
              "width": 0.5
             },
             "pattern": {
              "fillmode": "overlay",
              "size": 10,
              "solidity": 0.2
             }
            },
            "type": "barpolar"
           }
          ],
          "carpet": [
           {
            "aaxis": {
             "endlinecolor": "#2a3f5f",
             "gridcolor": "white",
             "linecolor": "white",
             "minorgridcolor": "white",
             "startlinecolor": "#2a3f5f"
            },
            "baxis": {
             "endlinecolor": "#2a3f5f",
             "gridcolor": "white",
             "linecolor": "white",
             "minorgridcolor": "white",
             "startlinecolor": "#2a3f5f"
            },
            "type": "carpet"
           }
          ],
          "choropleth": [
           {
            "colorbar": {
             "outlinewidth": 0,
             "ticks": ""
            },
            "type": "choropleth"
           }
          ],
          "contour": [
           {
            "colorbar": {
             "outlinewidth": 0,
             "ticks": ""
            },
            "colorscale": [
             [
              0,
              "#0d0887"
             ],
             [
              0.1111111111111111,
              "#46039f"
             ],
             [
              0.2222222222222222,
              "#7201a8"
             ],
             [
              0.3333333333333333,
              "#9c179e"
             ],
             [
              0.4444444444444444,
              "#bd3786"
             ],
             [
              0.5555555555555556,
              "#d8576b"
             ],
             [
              0.6666666666666666,
              "#ed7953"
             ],
             [
              0.7777777777777778,
              "#fb9f3a"
             ],
             [
              0.8888888888888888,
              "#fdca26"
             ],
             [
              1,
              "#f0f921"
             ]
            ],
            "type": "contour"
           }
          ],
          "contourcarpet": [
           {
            "colorbar": {
             "outlinewidth": 0,
             "ticks": ""
            },
            "type": "contourcarpet"
           }
          ],
          "heatmap": [
           {
            "colorbar": {
             "outlinewidth": 0,
             "ticks": ""
            },
            "colorscale": [
             [
              0,
              "#0d0887"
             ],
             [
              0.1111111111111111,
              "#46039f"
             ],
             [
              0.2222222222222222,
              "#7201a8"
             ],
             [
              0.3333333333333333,
              "#9c179e"
             ],
             [
              0.4444444444444444,
              "#bd3786"
             ],
             [
              0.5555555555555556,
              "#d8576b"
             ],
             [
              0.6666666666666666,
              "#ed7953"
             ],
             [
              0.7777777777777778,
              "#fb9f3a"
             ],
             [
              0.8888888888888888,
              "#fdca26"
             ],
             [
              1,
              "#f0f921"
             ]
            ],
            "type": "heatmap"
           }
          ],
          "heatmapgl": [
           {
            "colorbar": {
             "outlinewidth": 0,
             "ticks": ""
            },
            "colorscale": [
             [
              0,
              "#0d0887"
             ],
             [
              0.1111111111111111,
              "#46039f"
             ],
             [
              0.2222222222222222,
              "#7201a8"
             ],
             [
              0.3333333333333333,
              "#9c179e"
             ],
             [
              0.4444444444444444,
              "#bd3786"
             ],
             [
              0.5555555555555556,
              "#d8576b"
             ],
             [
              0.6666666666666666,
              "#ed7953"
             ],
             [
              0.7777777777777778,
              "#fb9f3a"
             ],
             [
              0.8888888888888888,
              "#fdca26"
             ],
             [
              1,
              "#f0f921"
             ]
            ],
            "type": "heatmapgl"
           }
          ],
          "histogram": [
           {
            "marker": {
             "pattern": {
              "fillmode": "overlay",
              "size": 10,
              "solidity": 0.2
             }
            },
            "type": "histogram"
           }
          ],
          "histogram2d": [
           {
            "colorbar": {
             "outlinewidth": 0,
             "ticks": ""
            },
            "colorscale": [
             [
              0,
              "#0d0887"
             ],
             [
              0.1111111111111111,
              "#46039f"
             ],
             [
              0.2222222222222222,
              "#7201a8"
             ],
             [
              0.3333333333333333,
              "#9c179e"
             ],
             [
              0.4444444444444444,
              "#bd3786"
             ],
             [
              0.5555555555555556,
              "#d8576b"
             ],
             [
              0.6666666666666666,
              "#ed7953"
             ],
             [
              0.7777777777777778,
              "#fb9f3a"
             ],
             [
              0.8888888888888888,
              "#fdca26"
             ],
             [
              1,
              "#f0f921"
             ]
            ],
            "type": "histogram2d"
           }
          ],
          "histogram2dcontour": [
           {
            "colorbar": {
             "outlinewidth": 0,
             "ticks": ""
            },
            "colorscale": [
             [
              0,
              "#0d0887"
             ],
             [
              0.1111111111111111,
              "#46039f"
             ],
             [
              0.2222222222222222,
              "#7201a8"
             ],
             [
              0.3333333333333333,
              "#9c179e"
             ],
             [
              0.4444444444444444,
              "#bd3786"
             ],
             [
              0.5555555555555556,
              "#d8576b"
             ],
             [
              0.6666666666666666,
              "#ed7953"
             ],
             [
              0.7777777777777778,
              "#fb9f3a"
             ],
             [
              0.8888888888888888,
              "#fdca26"
             ],
             [
              1,
              "#f0f921"
             ]
            ],
            "type": "histogram2dcontour"
           }
          ],
          "mesh3d": [
           {
            "colorbar": {
             "outlinewidth": 0,
             "ticks": ""
            },
            "type": "mesh3d"
           }
          ],
          "parcoords": [
           {
            "line": {
             "colorbar": {
              "outlinewidth": 0,
              "ticks": ""
             }
            },
            "type": "parcoords"
           }
          ],
          "pie": [
           {
            "automargin": true,
            "type": "pie"
           }
          ],
          "scatter": [
           {
            "fillpattern": {
             "fillmode": "overlay",
             "size": 10,
             "solidity": 0.2
            },
            "type": "scatter"
           }
          ],
          "scatter3d": [
           {
            "line": {
             "colorbar": {
              "outlinewidth": 0,
              "ticks": ""
             }
            },
            "marker": {
             "colorbar": {
              "outlinewidth": 0,
              "ticks": ""
             }
            },
            "type": "scatter3d"
           }
          ],
          "scattercarpet": [
           {
            "marker": {
             "colorbar": {
              "outlinewidth": 0,
              "ticks": ""
             }
            },
            "type": "scattercarpet"
           }
          ],
          "scattergeo": [
           {
            "marker": {
             "colorbar": {
              "outlinewidth": 0,
              "ticks": ""
             }
            },
            "type": "scattergeo"
           }
          ],
          "scattergl": [
           {
            "marker": {
             "colorbar": {
              "outlinewidth": 0,
              "ticks": ""
             }
            },
            "type": "scattergl"
           }
          ],
          "scattermapbox": [
           {
            "marker": {
             "colorbar": {
              "outlinewidth": 0,
              "ticks": ""
             }
            },
            "type": "scattermapbox"
           }
          ],
          "scatterpolar": [
           {
            "marker": {
             "colorbar": {
              "outlinewidth": 0,
              "ticks": ""
             }
            },
            "type": "scatterpolar"
           }
          ],
          "scatterpolargl": [
           {
            "marker": {
             "colorbar": {
              "outlinewidth": 0,
              "ticks": ""
             }
            },
            "type": "scatterpolargl"
           }
          ],
          "scatterternary": [
           {
            "marker": {
             "colorbar": {
              "outlinewidth": 0,
              "ticks": ""
             }
            },
            "type": "scatterternary"
           }
          ],
          "surface": [
           {
            "colorbar": {
             "outlinewidth": 0,
             "ticks": ""
            },
            "colorscale": [
             [
              0,
              "#0d0887"
             ],
             [
              0.1111111111111111,
              "#46039f"
             ],
             [
              0.2222222222222222,
              "#7201a8"
             ],
             [
              0.3333333333333333,
              "#9c179e"
             ],
             [
              0.4444444444444444,
              "#bd3786"
             ],
             [
              0.5555555555555556,
              "#d8576b"
             ],
             [
              0.6666666666666666,
              "#ed7953"
             ],
             [
              0.7777777777777778,
              "#fb9f3a"
             ],
             [
              0.8888888888888888,
              "#fdca26"
             ],
             [
              1,
              "#f0f921"
             ]
            ],
            "type": "surface"
           }
          ],
          "table": [
           {
            "cells": {
             "fill": {
              "color": "#EBF0F8"
             },
             "line": {
              "color": "white"
             }
            },
            "header": {
             "fill": {
              "color": "#C8D4E3"
             },
             "line": {
              "color": "white"
             }
            },
            "type": "table"
           }
          ]
         },
         "layout": {
          "annotationdefaults": {
           "arrowcolor": "#2a3f5f",
           "arrowhead": 0,
           "arrowwidth": 1
          },
          "autotypenumbers": "strict",
          "coloraxis": {
           "colorbar": {
            "outlinewidth": 0,
            "ticks": ""
           }
          },
          "colorscale": {
           "diverging": [
            [
             0,
             "#8e0152"
            ],
            [
             0.1,
             "#c51b7d"
            ],
            [
             0.2,
             "#de77ae"
            ],
            [
             0.3,
             "#f1b6da"
            ],
            [
             0.4,
             "#fde0ef"
            ],
            [
             0.5,
             "#f7f7f7"
            ],
            [
             0.6,
             "#e6f5d0"
            ],
            [
             0.7,
             "#b8e186"
            ],
            [
             0.8,
             "#7fbc41"
            ],
            [
             0.9,
             "#4d9221"
            ],
            [
             1,
             "#276419"
            ]
           ],
           "sequential": [
            [
             0,
             "#0d0887"
            ],
            [
             0.1111111111111111,
             "#46039f"
            ],
            [
             0.2222222222222222,
             "#7201a8"
            ],
            [
             0.3333333333333333,
             "#9c179e"
            ],
            [
             0.4444444444444444,
             "#bd3786"
            ],
            [
             0.5555555555555556,
             "#d8576b"
            ],
            [
             0.6666666666666666,
             "#ed7953"
            ],
            [
             0.7777777777777778,
             "#fb9f3a"
            ],
            [
             0.8888888888888888,
             "#fdca26"
            ],
            [
             1,
             "#f0f921"
            ]
           ],
           "sequentialminus": [
            [
             0,
             "#0d0887"
            ],
            [
             0.1111111111111111,
             "#46039f"
            ],
            [
             0.2222222222222222,
             "#7201a8"
            ],
            [
             0.3333333333333333,
             "#9c179e"
            ],
            [
             0.4444444444444444,
             "#bd3786"
            ],
            [
             0.5555555555555556,
             "#d8576b"
            ],
            [
             0.6666666666666666,
             "#ed7953"
            ],
            [
             0.7777777777777778,
             "#fb9f3a"
            ],
            [
             0.8888888888888888,
             "#fdca26"
            ],
            [
             1,
             "#f0f921"
            ]
           ]
          },
          "colorway": [
           "#636efa",
           "#EF553B",
           "#00cc96",
           "#ab63fa",
           "#FFA15A",
           "#19d3f3",
           "#FF6692",
           "#B6E880",
           "#FF97FF",
           "#FECB52"
          ],
          "font": {
           "color": "#2a3f5f"
          },
          "geo": {
           "bgcolor": "white",
           "lakecolor": "white",
           "landcolor": "#E5ECF6",
           "showlakes": true,
           "showland": true,
           "subunitcolor": "white"
          },
          "hoverlabel": {
           "align": "left"
          },
          "hovermode": "closest",
          "mapbox": {
           "style": "light"
          },
          "paper_bgcolor": "white",
          "plot_bgcolor": "#E5ECF6",
          "polar": {
           "angularaxis": {
            "gridcolor": "white",
            "linecolor": "white",
            "ticks": ""
           },
           "bgcolor": "#E5ECF6",
           "radialaxis": {
            "gridcolor": "white",
            "linecolor": "white",
            "ticks": ""
           }
          },
          "scene": {
           "xaxis": {
            "backgroundcolor": "#E5ECF6",
            "gridcolor": "white",
            "gridwidth": 2,
            "linecolor": "white",
            "showbackground": true,
            "ticks": "",
            "zerolinecolor": "white"
           },
           "yaxis": {
            "backgroundcolor": "#E5ECF6",
            "gridcolor": "white",
            "gridwidth": 2,
            "linecolor": "white",
            "showbackground": true,
            "ticks": "",
            "zerolinecolor": "white"
           },
           "zaxis": {
            "backgroundcolor": "#E5ECF6",
            "gridcolor": "white",
            "gridwidth": 2,
            "linecolor": "white",
            "showbackground": true,
            "ticks": "",
            "zerolinecolor": "white"
           }
          },
          "shapedefaults": {
           "line": {
            "color": "#2a3f5f"
           }
          },
          "ternary": {
           "aaxis": {
            "gridcolor": "white",
            "linecolor": "white",
            "ticks": ""
           },
           "baxis": {
            "gridcolor": "white",
            "linecolor": "white",
            "ticks": ""
           },
           "bgcolor": "#E5ECF6",
           "caxis": {
            "gridcolor": "white",
            "linecolor": "white",
            "ticks": ""
           }
          },
          "title": {
           "x": 0.05
          },
          "xaxis": {
           "automargin": true,
           "gridcolor": "white",
           "linecolor": "white",
           "ticks": "",
           "title": {
            "standoff": 15
           },
           "zerolinecolor": "white",
           "zerolinewidth": 2
          },
          "yaxis": {
           "automargin": true,
           "gridcolor": "white",
           "linecolor": "white",
           "ticks": "",
           "title": {
            "standoff": 15
           },
           "zerolinecolor": "white",
           "zerolinewidth": 2
          }
         }
        },
        "title": {
         "text": "3D PCA Plot"
        }
       }
      }
     },
     "metadata": {},
     "output_type": "display_data"
    }
   ],
   "source": [
    "import plotly.graph_objects as go\n",
    "import pandas as pd\n",
    "\n",
    "# Assuming 'principalDf' is your DataFrame and it includes 'principal component 1', 'principal component 2', 'principal component 3', and 'Outcome'\n",
    "\n",
    "# Extracting the values for each component\n",
    "x_values = principalDf['principal component 1']\n",
    "y_values = principalDf['principal component 2']\n",
    "z_values = principalDf['principal component 3']\n",
    "colors = new_df['Outcome']  # Assuming this is a column in your DataFrame for diabetes outcome\n",
    "\n",
    "# Create a 3D scatter plot\n",
    "fig = go.Figure(data=[go.Scatter3d(\n",
    "    x=x_values,\n",
    "    y=y_values,\n",
    "    z=z_values,\n",
    "    mode='markers',\n",
    "    marker=dict(\n",
    "        size=5,\n",
    "        color=colors,                # set color to an array/list of desired values\n",
    "        colorscale='Viridis',   # choose a colorscale\n",
    "        opacity=0.8\n",
    "    )\n",
    ")])\n",
    "\n",
    "# Adding labels for each axis\n",
    "fig.update_layout(\n",
    "    title='3D PCA Plot',\n",
    "    scene = dict(\n",
    "        xaxis_title='Principal Component 1',\n",
    "        yaxis_title='Principal Component 2',\n",
    "        zaxis_title='Principal Component 3'\n",
    "    ),\n",
    "    margin=dict(r=0, b=0, l=0, t=0)  # Tighten the margin to use space effectively\n",
    ")\n",
    "\n",
    "# Show plot\n",
    "fig.show()\n"
   ]
  }
 ],
 "metadata": {
  "kernelspec": {
   "display_name": "MLDM",
   "language": "python",
   "name": "python3"
  },
  "language_info": {
   "codemirror_mode": {
    "name": "ipython",
    "version": 3
   },
   "file_extension": ".py",
   "mimetype": "text/x-python",
   "name": "python",
   "nbconvert_exporter": "python",
   "pygments_lexer": "ipython3",
   "version": "3.11.7"
  }
 },
 "nbformat": 4,
 "nbformat_minor": 2
}
